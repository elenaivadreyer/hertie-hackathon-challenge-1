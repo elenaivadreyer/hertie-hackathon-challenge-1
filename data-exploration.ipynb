{
 "cells": [
  {
   "cell_type": "markdown",
   "source": [
    "### Notebook: Data Exploration Steps\n",
    "---\n",
    "\n",
    "Starting with data exploration is crucial for understanding the datasets' structure, content, and potential insights. Here are some guided steps you can include in your Jupyter Notebook to explore the data.\n",
    "\n",
    "1. **Initial Data Loading and Inspection**\n",
    "- Load each dataset into separate data frames. Use libraries such as `pandas` for this purpose."
   ],
   "metadata": {
    "collapsed": false
   },
   "id": "36be2e4378f03fc0"
  },
  {
   "cell_type": "markdown",
   "source": [],
   "metadata": {
    "collapsed": false
   },
   "id": "2683eeda1a6e23cc"
  },
  {
   "cell_type": "code",
   "outputs": [],
   "source": [
    "import pandas as pd\n",
    "import geopandas as gpd\n",
    "accidents_data = pd.read_csv('data/accidents_Berlin_2021_cleaned.csv')\n",
    "bikelanes_data = gpd.read_file('data/bike_lanes_Berlin.geojson')\n",
    "air_quality_data = pd.read_csv('data/air_quality_Berlin_2021.csv')"
   ],
   "metadata": {
    "collapsed": false,
    "ExecuteTime": {
     "end_time": "2024-04-11T16:30:47.849877Z",
     "start_time": "2024-04-11T16:30:46.107282Z"
    }
   },
   "id": "17943cd7159a91ab",
   "execution_count": 9
  },
  {
   "cell_type": "markdown",
   "source": [
    "- Perform a basic inspection of the data using methods like `.head()`, `.info()`, and `.describe()` to understand the structure, types of data available, and statistical summaries."
   ],
   "metadata": {
    "collapsed": false
   },
   "id": "30773db3b4ff1342"
  },
  {
   "cell_type": "code",
   "outputs": [
    {
     "data": {
      "text/plain": "   ObjectID  State  District  LOR_ab_2021  AccidentYear  AccidentMonth  \\\n0    219249     11         3    3701658.0          2021             11   \n1    219248     11         7    7501134.0          2021             12   \n2    219247     11         4    4100101.0          2021             12   \n3    219246     11         4    4501041.0          2021             12   \n4    219243     11        11   11501339.0          2021             12   \n\n   AccidentHour  DayOfWeek  AccidentCategory  AccidentType  ...  InvolvingCar  \\\n0            18          2                 3             0  ...             1   \n1            19          7                 3             6  ...             1   \n2            17          4                 3             5  ...             1   \n3            15          7                 3             5  ...             1   \n4             9          5                 3             3  ...             1   \n\n   InvolvingPedestrian  InvolvingMotorcycle  InvolvingHGV  InvolvingOther  \\\n0                    0                    1             0               0   \n1                    1                    0             0               0   \n2                    0                    0             0               0   \n3                    0                    1             0               0   \n4                    0                    0             0               1   \n\n   RoadCondition  GraphicCoord1  GraphicCoord2  LongitudeWGS84 LatitudeWGS84  \n0              1    800202,0742    5829640,204       13.426895     52.533940  \n1              1    798479,5317    5819049,219       13.392090     52.439951  \n2              0    793352,6128    5829680,195       13.326242     52.538028  \n3              1    792950,0395    5825362,081       13.316521     52.499534  \n4              2      807182,01    5825602,793       13.525752     52.493867  \n\n[5 rows x 23 columns]",
      "text/html": "<div>\n<style scoped>\n    .dataframe tbody tr th:only-of-type {\n        vertical-align: middle;\n    }\n\n    .dataframe tbody tr th {\n        vertical-align: top;\n    }\n\n    .dataframe thead th {\n        text-align: right;\n    }\n</style>\n<table border=\"1\" class=\"dataframe\">\n  <thead>\n    <tr style=\"text-align: right;\">\n      <th></th>\n      <th>ObjectID</th>\n      <th>State</th>\n      <th>District</th>\n      <th>LOR_ab_2021</th>\n      <th>AccidentYear</th>\n      <th>AccidentMonth</th>\n      <th>AccidentHour</th>\n      <th>DayOfWeek</th>\n      <th>AccidentCategory</th>\n      <th>AccidentType</th>\n      <th>...</th>\n      <th>InvolvingCar</th>\n      <th>InvolvingPedestrian</th>\n      <th>InvolvingMotorcycle</th>\n      <th>InvolvingHGV</th>\n      <th>InvolvingOther</th>\n      <th>RoadCondition</th>\n      <th>GraphicCoord1</th>\n      <th>GraphicCoord2</th>\n      <th>LongitudeWGS84</th>\n      <th>LatitudeWGS84</th>\n    </tr>\n  </thead>\n  <tbody>\n    <tr>\n      <th>0</th>\n      <td>219249</td>\n      <td>11</td>\n      <td>3</td>\n      <td>3701658.0</td>\n      <td>2021</td>\n      <td>11</td>\n      <td>18</td>\n      <td>2</td>\n      <td>3</td>\n      <td>0</td>\n      <td>...</td>\n      <td>1</td>\n      <td>0</td>\n      <td>1</td>\n      <td>0</td>\n      <td>0</td>\n      <td>1</td>\n      <td>800202,0742</td>\n      <td>5829640,204</td>\n      <td>13.426895</td>\n      <td>52.533940</td>\n    </tr>\n    <tr>\n      <th>1</th>\n      <td>219248</td>\n      <td>11</td>\n      <td>7</td>\n      <td>7501134.0</td>\n      <td>2021</td>\n      <td>12</td>\n      <td>19</td>\n      <td>7</td>\n      <td>3</td>\n      <td>6</td>\n      <td>...</td>\n      <td>1</td>\n      <td>1</td>\n      <td>0</td>\n      <td>0</td>\n      <td>0</td>\n      <td>1</td>\n      <td>798479,5317</td>\n      <td>5819049,219</td>\n      <td>13.392090</td>\n      <td>52.439951</td>\n    </tr>\n    <tr>\n      <th>2</th>\n      <td>219247</td>\n      <td>11</td>\n      <td>4</td>\n      <td>4100101.0</td>\n      <td>2021</td>\n      <td>12</td>\n      <td>17</td>\n      <td>4</td>\n      <td>3</td>\n      <td>5</td>\n      <td>...</td>\n      <td>1</td>\n      <td>0</td>\n      <td>0</td>\n      <td>0</td>\n      <td>0</td>\n      <td>0</td>\n      <td>793352,6128</td>\n      <td>5829680,195</td>\n      <td>13.326242</td>\n      <td>52.538028</td>\n    </tr>\n    <tr>\n      <th>3</th>\n      <td>219246</td>\n      <td>11</td>\n      <td>4</td>\n      <td>4501041.0</td>\n      <td>2021</td>\n      <td>12</td>\n      <td>15</td>\n      <td>7</td>\n      <td>3</td>\n      <td>5</td>\n      <td>...</td>\n      <td>1</td>\n      <td>0</td>\n      <td>1</td>\n      <td>0</td>\n      <td>0</td>\n      <td>1</td>\n      <td>792950,0395</td>\n      <td>5825362,081</td>\n      <td>13.316521</td>\n      <td>52.499534</td>\n    </tr>\n    <tr>\n      <th>4</th>\n      <td>219243</td>\n      <td>11</td>\n      <td>11</td>\n      <td>11501339.0</td>\n      <td>2021</td>\n      <td>12</td>\n      <td>9</td>\n      <td>5</td>\n      <td>3</td>\n      <td>3</td>\n      <td>...</td>\n      <td>1</td>\n      <td>0</td>\n      <td>0</td>\n      <td>0</td>\n      <td>1</td>\n      <td>2</td>\n      <td>807182,01</td>\n      <td>5825602,793</td>\n      <td>13.525752</td>\n      <td>52.493867</td>\n    </tr>\n  </tbody>\n</table>\n<p>5 rows × 23 columns</p>\n</div>"
     },
     "execution_count": 10,
     "metadata": {},
     "output_type": "execute_result"
    }
   ],
   "source": [
    "accidents_data.head()"
   ],
   "metadata": {
    "collapsed": false,
    "ExecuteTime": {
     "end_time": "2024-04-11T16:30:49.124790Z",
     "start_time": "2024-04-11T16:30:49.114806Z"
    }
   },
   "id": "2c232c2097c05c16",
   "execution_count": 10
  },
  {
   "cell_type": "code",
   "outputs": [
    {
     "data": {
      "text/plain": "                   gml_id subject_code               segment segment_district  \\\n0  b_radverkehrsanlagen.1    10-000415  58530025_58530021.01            B1/B5   \n1  b_radverkehrsanlagen.2    10-000039  60530006_60530009.01            B1/B5   \n2  b_radverkehrsanlagen.3    10-000038  60530005_60530006.01            B1/B5   \n3  b_radverkehrsanlagen.4    10-000011  57530025_57530026.01            B1/B5   \n4  b_radverkehrsanlagen.5    10-000012  57530001_57530017.01            B1/B5   \n\n  station_street         storage_name   location  lane_type  length  \\\n0  Alt-Kaulsdorf  Marzahn-Hellersdorf  Kaulsdorf  Bike path    26.0   \n1  Alt-Mahlsdorf  Marzahn-Hellersdorf  Mahlsdorf  Bike path    16.0   \n2  Alt-Mahlsdorf  Marzahn-Hellersdorf  Mahlsdorf  Bike path   510.0   \n3   Alt-Biesdorf  Marzahn-Hellersdorf   Biesdorf  Bike path    76.0   \n4   Alt-Biesdorf  Marzahn-Hellersdorf   Biesdorf  Bike path   192.0   \n\n  use_mandatory                                           geometry  \n0           yes  MULTILINESTRING ((13.58199 52.50505, 13.58237 ...  \n1           yes  MULTILINESTRING ((13.60630 52.50471, 13.60639 ...  \n2            no  MULTILINESTRING ((13.59882 52.50483, 13.59905 ...  \n3           yes  MULTILINESTRING ((13.56179 52.50846, 13.56214 ...  \n4           yes  MULTILINESTRING ((13.56277 52.50814, 13.56333 ...  ",
      "text/html": "<div>\n<style scoped>\n    .dataframe tbody tr th:only-of-type {\n        vertical-align: middle;\n    }\n\n    .dataframe tbody tr th {\n        vertical-align: top;\n    }\n\n    .dataframe thead th {\n        text-align: right;\n    }\n</style>\n<table border=\"1\" class=\"dataframe\">\n  <thead>\n    <tr style=\"text-align: right;\">\n      <th></th>\n      <th>gml_id</th>\n      <th>subject_code</th>\n      <th>segment</th>\n      <th>segment_district</th>\n      <th>station_street</th>\n      <th>storage_name</th>\n      <th>location</th>\n      <th>lane_type</th>\n      <th>length</th>\n      <th>use_mandatory</th>\n      <th>geometry</th>\n    </tr>\n  </thead>\n  <tbody>\n    <tr>\n      <th>0</th>\n      <td>b_radverkehrsanlagen.1</td>\n      <td>10-000415</td>\n      <td>58530025_58530021.01</td>\n      <td>B1/B5</td>\n      <td>Alt-Kaulsdorf</td>\n      <td>Marzahn-Hellersdorf</td>\n      <td>Kaulsdorf</td>\n      <td>Bike path</td>\n      <td>26.0</td>\n      <td>yes</td>\n      <td>MULTILINESTRING ((13.58199 52.50505, 13.58237 ...</td>\n    </tr>\n    <tr>\n      <th>1</th>\n      <td>b_radverkehrsanlagen.2</td>\n      <td>10-000039</td>\n      <td>60530006_60530009.01</td>\n      <td>B1/B5</td>\n      <td>Alt-Mahlsdorf</td>\n      <td>Marzahn-Hellersdorf</td>\n      <td>Mahlsdorf</td>\n      <td>Bike path</td>\n      <td>16.0</td>\n      <td>yes</td>\n      <td>MULTILINESTRING ((13.60630 52.50471, 13.60639 ...</td>\n    </tr>\n    <tr>\n      <th>2</th>\n      <td>b_radverkehrsanlagen.3</td>\n      <td>10-000038</td>\n      <td>60530005_60530006.01</td>\n      <td>B1/B5</td>\n      <td>Alt-Mahlsdorf</td>\n      <td>Marzahn-Hellersdorf</td>\n      <td>Mahlsdorf</td>\n      <td>Bike path</td>\n      <td>510.0</td>\n      <td>no</td>\n      <td>MULTILINESTRING ((13.59882 52.50483, 13.59905 ...</td>\n    </tr>\n    <tr>\n      <th>3</th>\n      <td>b_radverkehrsanlagen.4</td>\n      <td>10-000011</td>\n      <td>57530025_57530026.01</td>\n      <td>B1/B5</td>\n      <td>Alt-Biesdorf</td>\n      <td>Marzahn-Hellersdorf</td>\n      <td>Biesdorf</td>\n      <td>Bike path</td>\n      <td>76.0</td>\n      <td>yes</td>\n      <td>MULTILINESTRING ((13.56179 52.50846, 13.56214 ...</td>\n    </tr>\n    <tr>\n      <th>4</th>\n      <td>b_radverkehrsanlagen.5</td>\n      <td>10-000012</td>\n      <td>57530001_57530017.01</td>\n      <td>B1/B5</td>\n      <td>Alt-Biesdorf</td>\n      <td>Marzahn-Hellersdorf</td>\n      <td>Biesdorf</td>\n      <td>Bike path</td>\n      <td>192.0</td>\n      <td>yes</td>\n      <td>MULTILINESTRING ((13.56277 52.50814, 13.56333 ...</td>\n    </tr>\n  </tbody>\n</table>\n</div>"
     },
     "execution_count": 11,
     "metadata": {},
     "output_type": "execute_result"
    }
   ],
   "source": [
    "bikelanes_data.head()"
   ],
   "metadata": {
    "collapsed": false,
    "ExecuteTime": {
     "end_time": "2024-04-11T16:30:50.065156Z",
     "start_time": "2024-04-11T16:30:50.058485Z"
    }
   },
   "id": "e3bd14ad8176be7b",
   "execution_count": 11
  },
  {
   "cell_type": "code",
   "outputs": [
    {
     "data": {
      "text/plain": "          name   code   codeEu                                     address  \\\n0  010 Wedding  mc010  DEBE010  13353 Wedding, Amrumer Str./Limburger Str.   \n1  010 Wedding  mc010  DEBE010  13353 Wedding, Amrumer Str./Limburger Str.   \n2  010 Wedding  mc010  DEBE010  13353 Wedding, Amrumer Str./Limburger Str.   \n3  010 Wedding  mc010  DEBE010  13353 Wedding, Amrumer Str./Limburger Str.   \n4  010 Wedding  mc010  DEBE010  13353 Wedding, Amrumer Str./Limburger Str.   \n\n        lat       lng        date  value pollutant  \n0  52.54291  13.34926  2021-12-31   13.0      pm10  \n1  52.54291  13.34926  2021-12-30   13.0      pm10  \n2  52.54291  13.34926  2021-12-30   13.0      pm10  \n3  52.54291  13.34926  2021-12-30   14.0      pm10  \n4  52.54291  13.34926  2021-12-30   14.0      pm10  ",
      "text/html": "<div>\n<style scoped>\n    .dataframe tbody tr th:only-of-type {\n        vertical-align: middle;\n    }\n\n    .dataframe tbody tr th {\n        vertical-align: top;\n    }\n\n    .dataframe thead th {\n        text-align: right;\n    }\n</style>\n<table border=\"1\" class=\"dataframe\">\n  <thead>\n    <tr style=\"text-align: right;\">\n      <th></th>\n      <th>name</th>\n      <th>code</th>\n      <th>codeEu</th>\n      <th>address</th>\n      <th>lat</th>\n      <th>lng</th>\n      <th>date</th>\n      <th>value</th>\n      <th>pollutant</th>\n    </tr>\n  </thead>\n  <tbody>\n    <tr>\n      <th>0</th>\n      <td>010 Wedding</td>\n      <td>mc010</td>\n      <td>DEBE010</td>\n      <td>13353 Wedding, Amrumer Str./Limburger Str.</td>\n      <td>52.54291</td>\n      <td>13.34926</td>\n      <td>2021-12-31</td>\n      <td>13.0</td>\n      <td>pm10</td>\n    </tr>\n    <tr>\n      <th>1</th>\n      <td>010 Wedding</td>\n      <td>mc010</td>\n      <td>DEBE010</td>\n      <td>13353 Wedding, Amrumer Str./Limburger Str.</td>\n      <td>52.54291</td>\n      <td>13.34926</td>\n      <td>2021-12-30</td>\n      <td>13.0</td>\n      <td>pm10</td>\n    </tr>\n    <tr>\n      <th>2</th>\n      <td>010 Wedding</td>\n      <td>mc010</td>\n      <td>DEBE010</td>\n      <td>13353 Wedding, Amrumer Str./Limburger Str.</td>\n      <td>52.54291</td>\n      <td>13.34926</td>\n      <td>2021-12-30</td>\n      <td>13.0</td>\n      <td>pm10</td>\n    </tr>\n    <tr>\n      <th>3</th>\n      <td>010 Wedding</td>\n      <td>mc010</td>\n      <td>DEBE010</td>\n      <td>13353 Wedding, Amrumer Str./Limburger Str.</td>\n      <td>52.54291</td>\n      <td>13.34926</td>\n      <td>2021-12-30</td>\n      <td>14.0</td>\n      <td>pm10</td>\n    </tr>\n    <tr>\n      <th>4</th>\n      <td>010 Wedding</td>\n      <td>mc010</td>\n      <td>DEBE010</td>\n      <td>13353 Wedding, Amrumer Str./Limburger Str.</td>\n      <td>52.54291</td>\n      <td>13.34926</td>\n      <td>2021-12-30</td>\n      <td>14.0</td>\n      <td>pm10</td>\n    </tr>\n  </tbody>\n</table>\n</div>"
     },
     "execution_count": 12,
     "metadata": {},
     "output_type": "execute_result"
    }
   ],
   "source": [
    "air_quality_data.head()"
   ],
   "metadata": {
    "collapsed": false,
    "ExecuteTime": {
     "end_time": "2024-04-11T16:30:56.595852Z",
     "start_time": "2024-04-11T16:30:56.589871Z"
    }
   },
   "id": "771ccc2264016021",
   "execution_count": 12
  },
  {
   "cell_type": "markdown",
   "source": [
    "2. **Data Cleaning**\n",
    "- Identify and handle missing values. Decide whether to fill them with data (e.g., mean, median) or remove the rows/columns entirely."
   ],
   "metadata": {
    "collapsed": false
   },
   "id": "b3973a43715b6c2f"
  },
  {
   "cell_type": "code",
   "outputs": [
    {
     "data": {
      "text/plain": "                        name   code   codeEu  \\\n1490          018 Schöneberg  mc018  DEBE018   \n1491         027 Marienfelde  mc027  DEBE027   \n6532     085 Friedrichshagen  mc085  DEBE056   \n6533     085 Friedrichshagen  mc085  DEBE056   \n6534     085 Friedrichshagen  mc085  DEBE056   \n...                      ...    ...      ...   \n7372     085 Friedrichshagen  mc085  DEBE056   \n7452     115 Hardenbergplatz  mc115  DEBE067   \n10433            145 Frohnau  mc145  DEBE062   \n13414         282 Karlshorst  mc282  DEBE066   \n16395  144 Silbersteinstraße  mc144  DEBE127   \n\n                                            address        lat        lng  \\\n1490                 10823 Berlin, Belziger Str. 52  52.485790  13.348850   \n1491                   12307 Berlin, Schichauweg 60  52.398400  13.368075   \n6532            12587 Berlin, Müggelseedamm 307-310  52.447697  13.647050   \n6533            12587 Berlin, Müggelseedamm 307-310  52.447697  13.647050   \n6534            12587 Berlin, Müggelseedamm 307-310  52.447697  13.647050   \n...                                             ...        ...        ...   \n7372            12587 Berlin, Müggelseedamm 307-310  52.447697  13.647050   \n7452                  10623 Berlin, Hardenbergplatz  52.506630  13.332976   \n10433                    13465 Berlin, Jägerstieg 1  52.653270  13.296080   \n13414  10318 Berlin, Johanna-und-Willy-Brauer-Platz  52.485300  13.529500   \n16395               12051 Berlin, Silbersteinstr. 5  52.467470  13.441210   \n\n             date  value pollutant  \n1490          NaN    NaN       NaN  \n1491          NaN    NaN       NaN  \n6532   2021-12-07    NaN      pm10  \n6533   2021-12-07    NaN      pm10  \n6534   2021-12-07    NaN      pm10  \n...           ...    ...       ...  \n7372   2021-12-03    NaN      pm25  \n7452          NaN    NaN       NaN  \n10433         NaN    NaN       NaN  \n13414         NaN    NaN       NaN  \n16395         NaN    NaN       NaN  \n\n[198 rows x 9 columns]",
      "text/html": "<div>\n<style scoped>\n    .dataframe tbody tr th:only-of-type {\n        vertical-align: middle;\n    }\n\n    .dataframe tbody tr th {\n        vertical-align: top;\n    }\n\n    .dataframe thead th {\n        text-align: right;\n    }\n</style>\n<table border=\"1\" class=\"dataframe\">\n  <thead>\n    <tr style=\"text-align: right;\">\n      <th></th>\n      <th>name</th>\n      <th>code</th>\n      <th>codeEu</th>\n      <th>address</th>\n      <th>lat</th>\n      <th>lng</th>\n      <th>date</th>\n      <th>value</th>\n      <th>pollutant</th>\n    </tr>\n  </thead>\n  <tbody>\n    <tr>\n      <th>1490</th>\n      <td>018 Schöneberg</td>\n      <td>mc018</td>\n      <td>DEBE018</td>\n      <td>10823 Berlin, Belziger Str. 52</td>\n      <td>52.485790</td>\n      <td>13.348850</td>\n      <td>NaN</td>\n      <td>NaN</td>\n      <td>NaN</td>\n    </tr>\n    <tr>\n      <th>1491</th>\n      <td>027 Marienfelde</td>\n      <td>mc027</td>\n      <td>DEBE027</td>\n      <td>12307 Berlin, Schichauweg 60</td>\n      <td>52.398400</td>\n      <td>13.368075</td>\n      <td>NaN</td>\n      <td>NaN</td>\n      <td>NaN</td>\n    </tr>\n    <tr>\n      <th>6532</th>\n      <td>085 Friedrichshagen</td>\n      <td>mc085</td>\n      <td>DEBE056</td>\n      <td>12587 Berlin, Müggelseedamm 307-310</td>\n      <td>52.447697</td>\n      <td>13.647050</td>\n      <td>2021-12-07</td>\n      <td>NaN</td>\n      <td>pm10</td>\n    </tr>\n    <tr>\n      <th>6533</th>\n      <td>085 Friedrichshagen</td>\n      <td>mc085</td>\n      <td>DEBE056</td>\n      <td>12587 Berlin, Müggelseedamm 307-310</td>\n      <td>52.447697</td>\n      <td>13.647050</td>\n      <td>2021-12-07</td>\n      <td>NaN</td>\n      <td>pm10</td>\n    </tr>\n    <tr>\n      <th>6534</th>\n      <td>085 Friedrichshagen</td>\n      <td>mc085</td>\n      <td>DEBE056</td>\n      <td>12587 Berlin, Müggelseedamm 307-310</td>\n      <td>52.447697</td>\n      <td>13.647050</td>\n      <td>2021-12-07</td>\n      <td>NaN</td>\n      <td>pm10</td>\n    </tr>\n    <tr>\n      <th>...</th>\n      <td>...</td>\n      <td>...</td>\n      <td>...</td>\n      <td>...</td>\n      <td>...</td>\n      <td>...</td>\n      <td>...</td>\n      <td>...</td>\n      <td>...</td>\n    </tr>\n    <tr>\n      <th>7372</th>\n      <td>085 Friedrichshagen</td>\n      <td>mc085</td>\n      <td>DEBE056</td>\n      <td>12587 Berlin, Müggelseedamm 307-310</td>\n      <td>52.447697</td>\n      <td>13.647050</td>\n      <td>2021-12-03</td>\n      <td>NaN</td>\n      <td>pm25</td>\n    </tr>\n    <tr>\n      <th>7452</th>\n      <td>115 Hardenbergplatz</td>\n      <td>mc115</td>\n      <td>DEBE067</td>\n      <td>10623 Berlin, Hardenbergplatz</td>\n      <td>52.506630</td>\n      <td>13.332976</td>\n      <td>NaN</td>\n      <td>NaN</td>\n      <td>NaN</td>\n    </tr>\n    <tr>\n      <th>10433</th>\n      <td>145 Frohnau</td>\n      <td>mc145</td>\n      <td>DEBE062</td>\n      <td>13465 Berlin, Jägerstieg 1</td>\n      <td>52.653270</td>\n      <td>13.296080</td>\n      <td>NaN</td>\n      <td>NaN</td>\n      <td>NaN</td>\n    </tr>\n    <tr>\n      <th>13414</th>\n      <td>282 Karlshorst</td>\n      <td>mc282</td>\n      <td>DEBE066</td>\n      <td>10318 Berlin, Johanna-und-Willy-Brauer-Platz</td>\n      <td>52.485300</td>\n      <td>13.529500</td>\n      <td>NaN</td>\n      <td>NaN</td>\n      <td>NaN</td>\n    </tr>\n    <tr>\n      <th>16395</th>\n      <td>144 Silbersteinstraße</td>\n      <td>mc144</td>\n      <td>DEBE127</td>\n      <td>12051 Berlin, Silbersteinstr. 5</td>\n      <td>52.467470</td>\n      <td>13.441210</td>\n      <td>NaN</td>\n      <td>NaN</td>\n      <td>NaN</td>\n    </tr>\n  </tbody>\n</table>\n<p>198 rows × 9 columns</p>\n</div>"
     },
     "execution_count": 13,
     "metadata": {},
     "output_type": "execute_result"
    }
   ],
   "source": [
    "# for example, you might want to check for missing values in the air pollution dataset\n",
    "# show rows with missing values\n",
    "air_quality_data[air_quality_data['value'].isnull()]"
   ],
   "metadata": {
    "collapsed": false,
    "ExecuteTime": {
     "end_time": "2024-04-11T16:30:58.815233Z",
     "start_time": "2024-04-11T16:30:58.808567Z"
    }
   },
   "id": "da6577bc767109de",
   "execution_count": 13
  },
  {
   "cell_type": "markdown",
   "source": [
    "- Check for and correct any inconsistencies in data types (e.g., dates stored as strings)."
   ],
   "metadata": {
    "collapsed": false
   },
   "id": "45be4c42ddba535d"
  },
  {
   "cell_type": "code",
   "outputs": [
    {
     "data": {
      "text/plain": "ObjectID                 int64\nState                    int64\nDistrict                 int64\nLOR_ab_2021            float64\nAccidentYear             int64\nAccidentMonth            int64\nAccidentHour             int64\nDayOfWeek                int64\nAccidentCategory         int64\nAccidentType             int64\nAccidentTypeDetail       int64\nLightingCondition        int64\nInvolvingBike            int64\nInvolvingCar             int64\nInvolvingPedestrian      int64\nInvolvingMotorcycle      int64\nInvolvingHGV             int64\nInvolvingOther           int64\nRoadCondition            int64\nGraphicCoord1           object\nGraphicCoord2           object\nLongitudeWGS84         float64\nLatitudeWGS84          float64\ndtype: object"
     },
     "execution_count": 14,
     "metadata": {},
     "output_type": "execute_result"
    }
   ],
   "source": [
    "# for example, check the data types of the columns in the accidents dataset\n",
    "accidents_data.dtypes"
   ],
   "metadata": {
    "collapsed": false,
    "ExecuteTime": {
     "end_time": "2024-04-11T16:31:04.297182Z",
     "start_time": "2024-04-11T16:31:04.269194Z"
    }
   },
   "id": "4fac2ec75f0821fb",
   "execution_count": 14
  },
  {
   "cell_type": "markdown",
   "source": [
    "3. **Feature Engineering**\n",
    "- Create new columns that could be useful for analysis. For example, from the accidents dataset, you might extract the day of the week or the time of day.\n",
    "- Consider combining data from different sources based on common attributes (e.g., geolocation features).\n",
    "\n",
    "4. **Exploratory Data Analysis (EDA)**\n",
    "- Utilize visualizations (histograms, scatter plots, box plots) to understand distributions, relationships, and potential outliers in the data.\n",
    "- Map geolocation data to visualize accidents, pollution levels, and cycling routes. Tools like matplotlib, seaborn, or geopandas can be helpful here.\n",
    "\n",
    "5. **Preliminary Analysis**\n",
    "- Start with simple analyses to gain insights from the data. For accidents data, you could calculate the frequency of accidents by location or time. For air pollution, assess average pollution levels across different areas or times of the year.\n",
    "- Correlate different data points, like the proximity of accident hotspots to the most polluted areas.\n",
    "\n",
    "6. **Idea Generation and Hypothesis Formation**\n",
    "- Based on your initial findings, brainstorm potential use cases or areas of interest for further exploration. This could range from identifying the safest and healthiest cycling routes to predicting high-risk areas for future accidents or pollution spikes.\n",
    "- Formulate hypotheses or questions that you want your analysis to address."
   ],
   "metadata": {
    "collapsed": false
   },
   "id": "95440433393043a6"
  },
  {
   "cell_type": "code",
   "outputs": [],
   "source": [
    "# now it's your turn to explore the data and come up with interesting insights and ideas for your project!\n",
    "# Happy Hacking!"
   ],
   "metadata": {
    "collapsed": false,
    "ExecuteTime": {
     "end_time": "2024-04-11T16:29:49.184742Z",
     "start_time": "2024-04-11T16:29:49.182662Z"
    }
   },
   "id": "15c0b2256668fec4",
   "execution_count": 7
  }
 ],
 "metadata": {
  "kernelspec": {
   "display_name": "Python 3",
   "language": "python",
   "name": "python3"
  },
  "language_info": {
   "codemirror_mode": {
    "name": "ipython",
    "version": 2
   },
   "file_extension": ".py",
   "mimetype": "text/x-python",
   "name": "python",
   "nbconvert_exporter": "python",
   "pygments_lexer": "ipython2",
   "version": "2.7.6"
  }
 },
 "nbformat": 4,
 "nbformat_minor": 5
}
