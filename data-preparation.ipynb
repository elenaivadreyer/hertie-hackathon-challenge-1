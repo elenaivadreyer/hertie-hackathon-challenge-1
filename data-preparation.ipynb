{
 "cells": [
  {
   "cell_type": "markdown",
   "source": [
    "### Data Source 1: Accidents in Berlin\n",
    "---"
   ],
   "metadata": {
    "collapsed": false
   },
   "id": "a73c6a145e998792"
  },
  {
   "cell_type": "code",
   "outputs": [
    {
     "data": {
      "text/plain": "   OBJECTID  LAND  BEZ       LOR          STRASSE  UJAHR  UMONAT  USTUNDE  \\\n0     49090    11   12  12301203     Wittenau Süd   2019       1       13   \n1     49091    11    3   3040818       Pankow Süd   2019       1        9   \n2     49093    11   12  12103115  Breitkopfbecken   2019       3       21   \n3     49096    11    6   6040703       Nikolassee   2019       1        7   \n4     49097    11    7   7030303     Grazer Platz   2019       2       15   \n\n   UWOCHENTAG  UKATEGORIE  ...  IstPKW  IstFuss  IstKrad  IstGkfz  \\\n0           6           3  ...       1        0        0        0   \n1           5           3  ...       1        0        0        0   \n2           6           3  ...       0        0        0        0   \n3           6           2  ...       1        1        0        0   \n4           3           3  ...       1        0        0        0   \n\n   IstSonstige  USTRZUSTAND      LINREFX      LINREFY XGCSWGS84 YGCSWGS84  \n0            0            1  794062,2837  5835083,823  13,34146  52,58609  \n1            0            0  799130,4007  5832327,415  13,41356  52,55862  \n2            0            0   795437,613  5833549,454  13,36034  52,57159  \n3            0            1  786714,3754  5817042,137  13,21777  52,42825  \n4            0            0  796074,3342  5822724,905  13,36007  52,47421  \n\n[5 rows x 24 columns]",
      "text/html": "<div>\n<style scoped>\n    .dataframe tbody tr th:only-of-type {\n        vertical-align: middle;\n    }\n\n    .dataframe tbody tr th {\n        vertical-align: top;\n    }\n\n    .dataframe thead th {\n        text-align: right;\n    }\n</style>\n<table border=\"1\" class=\"dataframe\">\n  <thead>\n    <tr style=\"text-align: right;\">\n      <th></th>\n      <th>OBJECTID</th>\n      <th>LAND</th>\n      <th>BEZ</th>\n      <th>LOR</th>\n      <th>STRASSE</th>\n      <th>UJAHR</th>\n      <th>UMONAT</th>\n      <th>USTUNDE</th>\n      <th>UWOCHENTAG</th>\n      <th>UKATEGORIE</th>\n      <th>...</th>\n      <th>IstPKW</th>\n      <th>IstFuss</th>\n      <th>IstKrad</th>\n      <th>IstGkfz</th>\n      <th>IstSonstige</th>\n      <th>USTRZUSTAND</th>\n      <th>LINREFX</th>\n      <th>LINREFY</th>\n      <th>XGCSWGS84</th>\n      <th>YGCSWGS84</th>\n    </tr>\n  </thead>\n  <tbody>\n    <tr>\n      <th>0</th>\n      <td>49090</td>\n      <td>11</td>\n      <td>12</td>\n      <td>12301203</td>\n      <td>Wittenau Süd</td>\n      <td>2019</td>\n      <td>1</td>\n      <td>13</td>\n      <td>6</td>\n      <td>3</td>\n      <td>...</td>\n      <td>1</td>\n      <td>0</td>\n      <td>0</td>\n      <td>0</td>\n      <td>0</td>\n      <td>1</td>\n      <td>794062,2837</td>\n      <td>5835083,823</td>\n      <td>13,34146</td>\n      <td>52,58609</td>\n    </tr>\n    <tr>\n      <th>1</th>\n      <td>49091</td>\n      <td>11</td>\n      <td>3</td>\n      <td>3040818</td>\n      <td>Pankow Süd</td>\n      <td>2019</td>\n      <td>1</td>\n      <td>9</td>\n      <td>5</td>\n      <td>3</td>\n      <td>...</td>\n      <td>1</td>\n      <td>0</td>\n      <td>0</td>\n      <td>0</td>\n      <td>0</td>\n      <td>0</td>\n      <td>799130,4007</td>\n      <td>5832327,415</td>\n      <td>13,41356</td>\n      <td>52,55862</td>\n    </tr>\n    <tr>\n      <th>2</th>\n      <td>49093</td>\n      <td>11</td>\n      <td>12</td>\n      <td>12103115</td>\n      <td>Breitkopfbecken</td>\n      <td>2019</td>\n      <td>3</td>\n      <td>21</td>\n      <td>6</td>\n      <td>3</td>\n      <td>...</td>\n      <td>0</td>\n      <td>0</td>\n      <td>0</td>\n      <td>0</td>\n      <td>0</td>\n      <td>0</td>\n      <td>795437,613</td>\n      <td>5833549,454</td>\n      <td>13,36034</td>\n      <td>52,57159</td>\n    </tr>\n    <tr>\n      <th>3</th>\n      <td>49096</td>\n      <td>11</td>\n      <td>6</td>\n      <td>6040703</td>\n      <td>Nikolassee</td>\n      <td>2019</td>\n      <td>1</td>\n      <td>7</td>\n      <td>6</td>\n      <td>2</td>\n      <td>...</td>\n      <td>1</td>\n      <td>1</td>\n      <td>0</td>\n      <td>0</td>\n      <td>0</td>\n      <td>1</td>\n      <td>786714,3754</td>\n      <td>5817042,137</td>\n      <td>13,21777</td>\n      <td>52,42825</td>\n    </tr>\n    <tr>\n      <th>4</th>\n      <td>49097</td>\n      <td>11</td>\n      <td>7</td>\n      <td>7030303</td>\n      <td>Grazer Platz</td>\n      <td>2019</td>\n      <td>2</td>\n      <td>15</td>\n      <td>3</td>\n      <td>3</td>\n      <td>...</td>\n      <td>1</td>\n      <td>0</td>\n      <td>0</td>\n      <td>0</td>\n      <td>0</td>\n      <td>0</td>\n      <td>796074,3342</td>\n      <td>5822724,905</td>\n      <td>13,36007</td>\n      <td>52,47421</td>\n    </tr>\n  </tbody>\n</table>\n<p>5 rows × 24 columns</p>\n</div>"
     },
     "execution_count": 43,
     "metadata": {},
     "output_type": "execute_result"
    }
   ],
   "source": [
    "import pandas as pd\n",
    "\n",
    "# Load the data\n",
    "accidents_2019 = pd.read_csv('raw-data/accidents_Berlin_2019.csv', encoding =\"cp1252\", sep = \";\")\n",
    "\n",
    "# Display the first few rows of the data\n",
    "accidents_2019.head()"
   ],
   "metadata": {
    "collapsed": false,
    "ExecuteTime": {
     "end_time": "2024-04-19T18:17:11.610291Z",
     "start_time": "2024-04-19T18:17:11.571622Z"
    }
   },
   "id": "6e25c0bc7c2ef6d7",
   "execution_count": 43
  },
  {
   "cell_type": "code",
   "outputs": [
    {
     "data": {
      "text/plain": "Index(['OBJECTID', 'LAND', 'BEZ', 'LOR', 'STRASSE', 'UJAHR', 'UMONAT',\n       'USTUNDE', 'UWOCHENTAG', 'UKATEGORIE', 'UART', 'UTYP1', 'ULICHTVERH',\n       'IstRad', 'IstPKW', 'IstFuss', 'IstKrad', 'IstGkfz', 'IstSonstige',\n       'USTRZUSTAND', 'LINREFX', 'LINREFY', 'XGCSWGS84', 'YGCSWGS84'],\n      dtype='object')"
     },
     "execution_count": 44,
     "metadata": {},
     "output_type": "execute_result"
    }
   ],
   "source": [
    "# Display the column names (German)\n",
    "accidents_2019.columns"
   ],
   "metadata": {
    "collapsed": false,
    "ExecuteTime": {
     "end_time": "2024-04-19T18:17:11.615035Z",
     "start_time": "2024-04-19T18:17:11.611355Z"
    }
   },
   "id": "2fccb698bc21015d",
   "execution_count": 44
  },
  {
   "cell_type": "code",
   "outputs": [],
   "source": [
    "# load dataset of 2021\n",
    "accidents_2021 = pd.read_csv('raw-data/accidents_Berlin_2021.csv', encoding =\"cp1252\", sep = \";\")"
   ],
   "metadata": {
    "collapsed": false,
    "ExecuteTime": {
     "end_time": "2024-04-19T18:17:11.640968Z",
     "start_time": "2024-04-19T18:17:11.616427Z"
    }
   },
   "id": "c8999fb1292e3cc7",
   "execution_count": 45
  },
  {
   "cell_type": "code",
   "outputs": [
    {
     "data": {
      "text/plain": "   OBJECTID  LAND  BEZ  LOR_ab_2021  UJAHR  UMONAT  USTUNDE  UWOCHENTAG  \\\n0    219249    11    3    3701658.0   2021      11       18           2   \n1    219248    11    7    7501134.0   2021      12       19           7   \n2    219247    11    4    4100101.0   2021      12       17           4   \n3    219246    11    4    4501041.0   2021      12       15           7   \n4    219243    11   11   11501339.0   2021      12        9           5   \n\n   UKATEGORIE  UART  ...  IstPKW  IstFuss  IstKrad  IstGkfz  IstSonstige  \\\n0           3     0  ...       1        0        1        0            0   \n1           3     6  ...       1        1        0        0            0   \n2           3     5  ...       1        0        0        0            0   \n3           3     5  ...       1        0        1        0            0   \n4           3     3  ...       1        0        0        0            1   \n\n   USTRZUSTAND      LINREFX      LINREFY    XGCSWGS84    YGCSWGS84  \n0            1  800202,0742  5829640,204  13,42689483  52,53393955  \n1            1  798479,5317  5819049,219  13,39209027  52,43995086  \n2            0  793352,6128  5829680,195  13,32624193  52,53802784  \n3            1  792950,0395  5825362,081  13,31652064  52,49953417  \n4            2    807182,01  5825602,793  13,52575163  52,49386714  \n\n[5 rows x 23 columns]",
      "text/html": "<div>\n<style scoped>\n    .dataframe tbody tr th:only-of-type {\n        vertical-align: middle;\n    }\n\n    .dataframe tbody tr th {\n        vertical-align: top;\n    }\n\n    .dataframe thead th {\n        text-align: right;\n    }\n</style>\n<table border=\"1\" class=\"dataframe\">\n  <thead>\n    <tr style=\"text-align: right;\">\n      <th></th>\n      <th>OBJECTID</th>\n      <th>LAND</th>\n      <th>BEZ</th>\n      <th>LOR_ab_2021</th>\n      <th>UJAHR</th>\n      <th>UMONAT</th>\n      <th>USTUNDE</th>\n      <th>UWOCHENTAG</th>\n      <th>UKATEGORIE</th>\n      <th>UART</th>\n      <th>...</th>\n      <th>IstPKW</th>\n      <th>IstFuss</th>\n      <th>IstKrad</th>\n      <th>IstGkfz</th>\n      <th>IstSonstige</th>\n      <th>USTRZUSTAND</th>\n      <th>LINREFX</th>\n      <th>LINREFY</th>\n      <th>XGCSWGS84</th>\n      <th>YGCSWGS84</th>\n    </tr>\n  </thead>\n  <tbody>\n    <tr>\n      <th>0</th>\n      <td>219249</td>\n      <td>11</td>\n      <td>3</td>\n      <td>3701658.0</td>\n      <td>2021</td>\n      <td>11</td>\n      <td>18</td>\n      <td>2</td>\n      <td>3</td>\n      <td>0</td>\n      <td>...</td>\n      <td>1</td>\n      <td>0</td>\n      <td>1</td>\n      <td>0</td>\n      <td>0</td>\n      <td>1</td>\n      <td>800202,0742</td>\n      <td>5829640,204</td>\n      <td>13,42689483</td>\n      <td>52,53393955</td>\n    </tr>\n    <tr>\n      <th>1</th>\n      <td>219248</td>\n      <td>11</td>\n      <td>7</td>\n      <td>7501134.0</td>\n      <td>2021</td>\n      <td>12</td>\n      <td>19</td>\n      <td>7</td>\n      <td>3</td>\n      <td>6</td>\n      <td>...</td>\n      <td>1</td>\n      <td>1</td>\n      <td>0</td>\n      <td>0</td>\n      <td>0</td>\n      <td>1</td>\n      <td>798479,5317</td>\n      <td>5819049,219</td>\n      <td>13,39209027</td>\n      <td>52,43995086</td>\n    </tr>\n    <tr>\n      <th>2</th>\n      <td>219247</td>\n      <td>11</td>\n      <td>4</td>\n      <td>4100101.0</td>\n      <td>2021</td>\n      <td>12</td>\n      <td>17</td>\n      <td>4</td>\n      <td>3</td>\n      <td>5</td>\n      <td>...</td>\n      <td>1</td>\n      <td>0</td>\n      <td>0</td>\n      <td>0</td>\n      <td>0</td>\n      <td>0</td>\n      <td>793352,6128</td>\n      <td>5829680,195</td>\n      <td>13,32624193</td>\n      <td>52,53802784</td>\n    </tr>\n    <tr>\n      <th>3</th>\n      <td>219246</td>\n      <td>11</td>\n      <td>4</td>\n      <td>4501041.0</td>\n      <td>2021</td>\n      <td>12</td>\n      <td>15</td>\n      <td>7</td>\n      <td>3</td>\n      <td>5</td>\n      <td>...</td>\n      <td>1</td>\n      <td>0</td>\n      <td>1</td>\n      <td>0</td>\n      <td>0</td>\n      <td>1</td>\n      <td>792950,0395</td>\n      <td>5825362,081</td>\n      <td>13,31652064</td>\n      <td>52,49953417</td>\n    </tr>\n    <tr>\n      <th>4</th>\n      <td>219243</td>\n      <td>11</td>\n      <td>11</td>\n      <td>11501339.0</td>\n      <td>2021</td>\n      <td>12</td>\n      <td>9</td>\n      <td>5</td>\n      <td>3</td>\n      <td>3</td>\n      <td>...</td>\n      <td>1</td>\n      <td>0</td>\n      <td>0</td>\n      <td>0</td>\n      <td>1</td>\n      <td>2</td>\n      <td>807182,01</td>\n      <td>5825602,793</td>\n      <td>13,52575163</td>\n      <td>52,49386714</td>\n    </tr>\n  </tbody>\n</table>\n<p>5 rows × 23 columns</p>\n</div>"
     },
     "execution_count": 46,
     "metadata": {},
     "output_type": "execute_result"
    }
   ],
   "source": [
    "# Display the first few rows of the data\n",
    "accidents_2021.head()"
   ],
   "metadata": {
    "collapsed": false,
    "ExecuteTime": {
     "end_time": "2024-04-19T18:17:11.649145Z",
     "start_time": "2024-04-19T18:17:11.641691Z"
    }
   },
   "id": "134438d6dcc196a6",
   "execution_count": 46
  },
  {
   "cell_type": "code",
   "outputs": [
    {
     "data": {
      "text/plain": "OBJECTID       0\nLAND           0\nBEZ            0\nLOR_ab_2021    1\nUJAHR          0\nUMONAT         0\nUSTUNDE        0\nUWOCHENTAG     0\nUKATEGORIE     0\nUART           0\nUTYP1          0\nULICHTVERH     0\nIstRad         0\nIstPKW         0\nIstFuss        0\nIstKrad        0\nIstGkfz        0\nIstSonstige    0\nUSTRZUSTAND    0\nLINREFX        0\nLINREFY        0\nXGCSWGS84      0\nYGCSWGS84      0\ndtype: int64"
     },
     "execution_count": 47,
     "metadata": {},
     "output_type": "execute_result"
    }
   ],
   "source": [
    "# Display the number of missing values in each column\n",
    "accidents_2021.isnull().sum()"
   ],
   "metadata": {
    "collapsed": false,
    "ExecuteTime": {
     "end_time": "2024-04-19T18:17:11.656931Z",
     "start_time": "2024-04-19T18:17:11.649981Z"
    }
   },
   "id": "e2821b1d30c1295c",
   "execution_count": 47
  },
  {
   "cell_type": "code",
   "outputs": [
    {
     "name": "stdout",
     "output_type": "stream",
     "text": [
      "Index(['ObjectID', 'State', 'District', 'LOR_ab_2021', 'AccidentYear',\n",
      "       'AccidentMonth', 'AccidentHour', 'DayOfWeek', 'AccidentCategory',\n",
      "       'AccidentType', 'AccidentTypeDetail', 'LightingCondition',\n",
      "       'InvolvingBike', 'InvolvingCar', 'InvolvingPedestrian',\n",
      "       'InvolvingMotorcycle', 'InvolvingHGV', 'InvolvingOther',\n",
      "       'RoadCondition', 'GraphicCoord1', 'GraphicCoord2', 'LongitudeWGS84',\n",
      "       'LatitudeWGS84'],\n",
      "      dtype='object')\n"
     ]
    }
   ],
   "source": [
    "# Dictionary mapping German column names to English\n",
    "translation_dict = {\n",
    "    'OBJECTID': 'ObjectID',\n",
    "    'LAND': 'State',\n",
    "    'BEZ': 'District',\n",
    "    'LOR': 'LOR',\n",
    "    'STRASSE': 'Street',\n",
    "    'UJAHR': 'AccidentYear',\n",
    "    'UMONAT': 'AccidentMonth',\n",
    "    'USTUNDE': 'AccidentHour',\n",
    "    'UWOCHENTAG': 'DayOfWeek',\n",
    "    'UKATEGORIE': 'AccidentCategory',\n",
    "    'UART': 'AccidentType',\n",
    "    'UTYP1': 'AccidentTypeDetail',\n",
    "    'ULICHTVERH': 'LightingCondition',\n",
    "    'IstRad': 'InvolvingBike',\n",
    "    'IstPKW': 'InvolvingCar',\n",
    "    'IstFuss': 'InvolvingPedestrian',\n",
    "    'IstKrad': 'InvolvingMotorcycle',\n",
    "    'IstGkfz': 'InvolvingHGV',\n",
    "    'IstSonstige': 'InvolvingOther',\n",
    "    'USTRZUSTAND': 'RoadCondition',\n",
    "    'LINREFX': 'GraphicCoord1',\n",
    "    'LINREFY': 'GraphicCoord2',\n",
    "    'XGCSWGS84': 'LongitudeWGS84',\n",
    "    'YGCSWGS84': 'LatitudeWGS84'\n",
    "}\n",
    "\n",
    "# Rename the columns\n",
    "accidents_data = accidents_2021.rename(columns=translation_dict)\n",
    "\n",
    "# Display the new column names\n",
    "print(accidents_data.columns)"
   ],
   "metadata": {
    "collapsed": false,
    "ExecuteTime": {
     "end_time": "2024-04-19T18:17:11.661026Z",
     "start_time": "2024-04-19T18:17:11.657620Z"
    }
   },
   "id": "8172026a526b3416",
   "execution_count": 48
  },
  {
   "cell_type": "code",
   "outputs": [
    {
     "data": {
      "text/plain": "   ObjectID  State  District  LOR_ab_2021  AccidentYear  AccidentMonth  \\\n0    219249     11         3    3701658.0          2021             11   \n1    219248     11         7    7501134.0          2021             12   \n2    219247     11         4    4100101.0          2021             12   \n3    219246     11         4    4501041.0          2021             12   \n4    219243     11        11   11501339.0          2021             12   \n\n   AccidentHour  DayOfWeek  AccidentCategory  AccidentType  ...  InvolvingCar  \\\n0            18          2                 3             0  ...             1   \n1            19          7                 3             6  ...             1   \n2            17          4                 3             5  ...             1   \n3            15          7                 3             5  ...             1   \n4             9          5                 3             3  ...             1   \n\n   InvolvingPedestrian  InvolvingMotorcycle  InvolvingHGV  InvolvingOther  \\\n0                    0                    1             0               0   \n1                    1                    0             0               0   \n2                    0                    0             0               0   \n3                    0                    1             0               0   \n4                    0                    0             0               1   \n\n   RoadCondition  GraphicCoord1  GraphicCoord2  LongitudeWGS84 LatitudeWGS84  \n0              1    800202,0742    5829640,204     13,42689483   52,53393955  \n1              1    798479,5317    5819049,219     13,39209027   52,43995086  \n2              0    793352,6128    5829680,195     13,32624193   52,53802784  \n3              1    792950,0395    5825362,081     13,31652064   52,49953417  \n4              2      807182,01    5825602,793     13,52575163   52,49386714  \n\n[5 rows x 23 columns]",
      "text/html": "<div>\n<style scoped>\n    .dataframe tbody tr th:only-of-type {\n        vertical-align: middle;\n    }\n\n    .dataframe tbody tr th {\n        vertical-align: top;\n    }\n\n    .dataframe thead th {\n        text-align: right;\n    }\n</style>\n<table border=\"1\" class=\"dataframe\">\n  <thead>\n    <tr style=\"text-align: right;\">\n      <th></th>\n      <th>ObjectID</th>\n      <th>State</th>\n      <th>District</th>\n      <th>LOR_ab_2021</th>\n      <th>AccidentYear</th>\n      <th>AccidentMonth</th>\n      <th>AccidentHour</th>\n      <th>DayOfWeek</th>\n      <th>AccidentCategory</th>\n      <th>AccidentType</th>\n      <th>...</th>\n      <th>InvolvingCar</th>\n      <th>InvolvingPedestrian</th>\n      <th>InvolvingMotorcycle</th>\n      <th>InvolvingHGV</th>\n      <th>InvolvingOther</th>\n      <th>RoadCondition</th>\n      <th>GraphicCoord1</th>\n      <th>GraphicCoord2</th>\n      <th>LongitudeWGS84</th>\n      <th>LatitudeWGS84</th>\n    </tr>\n  </thead>\n  <tbody>\n    <tr>\n      <th>0</th>\n      <td>219249</td>\n      <td>11</td>\n      <td>3</td>\n      <td>3701658.0</td>\n      <td>2021</td>\n      <td>11</td>\n      <td>18</td>\n      <td>2</td>\n      <td>3</td>\n      <td>0</td>\n      <td>...</td>\n      <td>1</td>\n      <td>0</td>\n      <td>1</td>\n      <td>0</td>\n      <td>0</td>\n      <td>1</td>\n      <td>800202,0742</td>\n      <td>5829640,204</td>\n      <td>13,42689483</td>\n      <td>52,53393955</td>\n    </tr>\n    <tr>\n      <th>1</th>\n      <td>219248</td>\n      <td>11</td>\n      <td>7</td>\n      <td>7501134.0</td>\n      <td>2021</td>\n      <td>12</td>\n      <td>19</td>\n      <td>7</td>\n      <td>3</td>\n      <td>6</td>\n      <td>...</td>\n      <td>1</td>\n      <td>1</td>\n      <td>0</td>\n      <td>0</td>\n      <td>0</td>\n      <td>1</td>\n      <td>798479,5317</td>\n      <td>5819049,219</td>\n      <td>13,39209027</td>\n      <td>52,43995086</td>\n    </tr>\n    <tr>\n      <th>2</th>\n      <td>219247</td>\n      <td>11</td>\n      <td>4</td>\n      <td>4100101.0</td>\n      <td>2021</td>\n      <td>12</td>\n      <td>17</td>\n      <td>4</td>\n      <td>3</td>\n      <td>5</td>\n      <td>...</td>\n      <td>1</td>\n      <td>0</td>\n      <td>0</td>\n      <td>0</td>\n      <td>0</td>\n      <td>0</td>\n      <td>793352,6128</td>\n      <td>5829680,195</td>\n      <td>13,32624193</td>\n      <td>52,53802784</td>\n    </tr>\n    <tr>\n      <th>3</th>\n      <td>219246</td>\n      <td>11</td>\n      <td>4</td>\n      <td>4501041.0</td>\n      <td>2021</td>\n      <td>12</td>\n      <td>15</td>\n      <td>7</td>\n      <td>3</td>\n      <td>5</td>\n      <td>...</td>\n      <td>1</td>\n      <td>0</td>\n      <td>1</td>\n      <td>0</td>\n      <td>0</td>\n      <td>1</td>\n      <td>792950,0395</td>\n      <td>5825362,081</td>\n      <td>13,31652064</td>\n      <td>52,49953417</td>\n    </tr>\n    <tr>\n      <th>4</th>\n      <td>219243</td>\n      <td>11</td>\n      <td>11</td>\n      <td>11501339.0</td>\n      <td>2021</td>\n      <td>12</td>\n      <td>9</td>\n      <td>5</td>\n      <td>3</td>\n      <td>3</td>\n      <td>...</td>\n      <td>1</td>\n      <td>0</td>\n      <td>0</td>\n      <td>0</td>\n      <td>1</td>\n      <td>2</td>\n      <td>807182,01</td>\n      <td>5825602,793</td>\n      <td>13,52575163</td>\n      <td>52,49386714</td>\n    </tr>\n  </tbody>\n</table>\n<p>5 rows × 23 columns</p>\n</div>"
     },
     "execution_count": 49,
     "metadata": {},
     "output_type": "execute_result"
    }
   ],
   "source": [
    "# Now let's check the first few rows of the cleaned data\n",
    "accidents_data.head()"
   ],
   "metadata": {
    "collapsed": false,
    "ExecuteTime": {
     "end_time": "2024-04-19T18:17:11.668425Z",
     "start_time": "2024-04-19T18:17:11.661768Z"
    }
   },
   "id": "6a0b1f39cfa284c2",
   "execution_count": 49
  },
  {
   "cell_type": "code",
   "outputs": [
    {
     "data": {
      "text/plain": "0    7016\n1    4251\nName: InvolvingBike, dtype: int64"
     },
     "execution_count": 50,
     "metadata": {},
     "output_type": "execute_result"
    }
   ],
   "source": [
    "# Find out the number accidents where a bike was involved\n",
    "accidents_data['InvolvingBike'].value_counts()"
   ],
   "metadata": {
    "collapsed": false,
    "ExecuteTime": {
     "end_time": "2024-04-19T18:17:11.672582Z",
     "start_time": "2024-04-19T18:17:11.669265Z"
    }
   },
   "id": "48e7e78ec1a25e5",
   "execution_count": 50
  },
  {
   "cell_type": "markdown",
   "source": [
    "Insight: We have 4251 reported bike accidents in Berlin in 2019."
   ],
   "metadata": {
    "collapsed": false
   },
   "id": "c483c336e2bc7d69"
  },
  {
   "cell_type": "code",
   "outputs": [],
   "source": [
    "# Convert the coordinate columns to floats, replacing commas with periods\n",
    "# Needed for later when plotting the data\n",
    "accidents_data['LongitudeWGS84'] = accidents_data['LongitudeWGS84'].str.replace(',', '.').astype(float)\n",
    "accidents_data['LatitudeWGS84'] = accidents_data['LatitudeWGS84'].str.replace(',', '.').astype(float)"
   ],
   "metadata": {
    "collapsed": false,
    "ExecuteTime": {
     "end_time": "2024-04-19T18:17:11.682447Z",
     "start_time": "2024-04-19T18:17:11.673412Z"
    }
   },
   "id": "ca02fb410745e2c5",
   "execution_count": 51
  },
  {
   "cell_type": "code",
   "outputs": [
    {
     "data": {
      "text/plain": "ObjectID                 int64\nState                    int64\nDistrict                 int64\nLOR_ab_2021            float64\nAccidentYear             int64\nAccidentMonth            int64\nAccidentHour             int64\nDayOfWeek                int64\nAccidentCategory         int64\nAccidentType             int64\nAccidentTypeDetail       int64\nLightingCondition        int64\nInvolvingBike            int64\nInvolvingCar             int64\nInvolvingPedestrian      int64\nInvolvingMotorcycle      int64\nInvolvingHGV             int64\nInvolvingOther           int64\nRoadCondition            int64\nGraphicCoord1           object\nGraphicCoord2           object\nLongitudeWGS84         float64\nLatitudeWGS84          float64\ndtype: object"
     },
     "execution_count": 52,
     "metadata": {},
     "output_type": "execute_result"
    }
   ],
   "source": [
    "# Check the data types of the columns\n",
    "accidents_data.dtypes"
   ],
   "metadata": {
    "collapsed": false,
    "ExecuteTime": {
     "end_time": "2024-04-19T18:17:11.686302Z",
     "start_time": "2024-04-19T18:17:11.683281Z"
    }
   },
   "id": "43e3b3046ffa56d8",
   "execution_count": 52
  },
  {
   "cell_type": "code",
   "outputs": [],
   "source": [
    "# save the cleaned data to a new csv file\n",
    "# accidents_data.to_csv('data/accidents_Berlin_2021.csv', index=False)"
   ],
   "metadata": {
    "collapsed": false,
    "ExecuteTime": {
     "end_time": "2024-04-19T18:17:11.688634Z",
     "start_time": "2024-04-19T18:17:11.687102Z"
    }
   },
   "id": "d0275701ff268d3b",
   "execution_count": 53
  },
  {
   "cell_type": "markdown",
   "source": [
    "### Data Source 2: Bike Lanes data via WFS endpoint\n",
    "---"
   ],
   "metadata": {
    "collapsed": false
   },
   "id": "f8028afda9e372f6"
  },
  {
   "cell_type": "code",
   "outputs": [
    {
     "ename": "ModuleNotFoundError",
     "evalue": "No module named 'owslib'",
     "output_type": "error",
     "traceback": [
      "\u001B[0;31m---------------------------------------------------------------------------\u001B[0m",
      "\u001B[0;31mModuleNotFoundError\u001B[0m                       Traceback (most recent call last)",
      "Cell \u001B[0;32mIn[54], line 1\u001B[0m\n\u001B[0;32m----> 1\u001B[0m \u001B[38;5;28;01mfrom\u001B[39;00m \u001B[38;5;21;01mowslib\u001B[39;00m\u001B[38;5;21;01m.\u001B[39;00m\u001B[38;5;21;01mwfs\u001B[39;00m \u001B[38;5;28;01mimport\u001B[39;00m WebFeatureService\n\u001B[1;32m      3\u001B[0m \u001B[38;5;66;03m# The URL of the WFS server you want to connect to\u001B[39;00m\n\u001B[1;32m      4\u001B[0m wfs_url \u001B[38;5;241m=\u001B[39m \u001B[38;5;124m'\u001B[39m\u001B[38;5;124mhttps://gdi.berlin.de/services/wfs/radverkehrsanlagen?REQUEST=GetCapabilities&SERVICE=wfs\u001B[39m\u001B[38;5;124m'\u001B[39m\n",
      "\u001B[0;31mModuleNotFoundError\u001B[0m: No module named 'owslib'"
     ]
    }
   ],
   "source": [
    "from owslib.wfs import WebFeatureService\n",
    "\n",
    "# The URL of the WFS server you want to connect to\n",
    "wfs_url = 'https://gdi.berlin.de/services/wfs/radverkehrsanlagen?REQUEST=GetCapabilities&SERVICE=wfs'\n",
    "\n",
    "# Connect to the WFS service\n",
    "wfs = WebFeatureService(url=wfs_url, version='2.0.0')\n",
    "\n",
    "# Specify the layer name and output format\n",
    "layer_name = 'radverkehrsanlagen:b_radverkehrsanlagen'\n",
    "output_format = 'text/xml; subtype=gml/3.1.1'\n",
    "\n",
    "# Fetch features from the layer\n",
    "response = wfs.getfeature(typename=layer_name, outputFormat=output_format)\n",
    "\n",
    "# Since the previous approach to check the content type isn't suitable here, \n",
    "# we'll directly read the response content\n",
    "response_content = response.read()\n",
    "\n",
    "# Check if the response is not empty by checking the size of the response_content\n",
    "if response_content:\n",
    "    # print(response_content[:1000])  # Print the first 1000 bytes to check\n",
    "    \n",
    "    # Save the fetched data to a file\n",
    "    with open('bike_lanes.xml', 'wb') as file:\n",
    "        file.write(response.read())\n",
    "else:\n",
    "    print(\"The response is empty. Check the layer name, output format, and WFS service.\")"
   ],
   "metadata": {
    "collapsed": false,
    "ExecuteTime": {
     "end_time": "2024-04-19T18:17:11.711565Z",
     "start_time": "2024-04-19T18:17:11.689368Z"
    }
   },
   "id": "a709be8fa8572bef",
   "execution_count": 54
  },
  {
   "cell_type": "markdown",
   "source": [
    "Running this command in the terminal will convert the XML file to GeoJSON:\n",
    "```bash\n",
    "ogr2ogr -f GeoJSON bike_lanes.geojson bike_lanes.xml\n",
    "```"
   ],
   "metadata": {
    "collapsed": false
   },
   "id": "91d8bae70b2ae8a0"
  },
  {
   "cell_type": "code",
   "outputs": [],
   "source": [
    "import geopandas as gpd\n",
    "import matplotlib.pyplot as plt\n",
    "\n",
    "# Load the converted GeoJSON file\n",
    "gdf = gpd.read_file('raw-data/bike_lanes.geojson')\n",
    "\n",
    "# Plot the data\n",
    "gdf.plot()\n",
    "plt.show()"
   ],
   "metadata": {
    "collapsed": false,
    "ExecuteTime": {
     "end_time": "2024-04-19T18:17:11.713338Z",
     "start_time": "2024-04-19T18:17:11.713245Z"
    }
   },
   "id": "aaf0382f1eaa8e3b",
   "execution_count": null
  },
  {
   "cell_type": "code",
   "outputs": [],
   "source": [
    "gdf.head()"
   ],
   "metadata": {
    "collapsed": false
   },
   "id": "e12c429d8a30a5ea",
   "execution_count": null
  },
  {
   "cell_type": "markdown",
   "source": [
    "So far so good - we have the bike lanes data. Now let's see how we can combine the two datasets."
   ],
   "metadata": {
    "collapsed": false
   },
   "id": "61009b23dec84b1d"
  },
  {
   "cell_type": "code",
   "outputs": [],
   "source": [
    "# translate the column names to English\n",
    "# print values of the 'rva_typ' column\n",
    "gdf['rva_typ'].value_counts()\n",
    "\n",
    "column_names_de = gdf.columns\n",
    "\n",
    "# Translation dictionary\n",
    "translations_en = {\n",
    "    'gml_id': 'gml_id',\n",
    "    'sobj_kz': 'subject_code',\n",
    "    'segm_segm': 'segment',\n",
    "    'segm_bez': 'segment_district',\n",
    "    'stst_str': 'station_street',\n",
    "    'stor_name': 'storage_name',\n",
    "    'ortstl': 'location',\n",
    "    'rva_typ': 'lane_type',\n",
    "    'sorvt_typ': 'service_type',\n",
    "    'laenge': 'length_in_m',\n",
    "    'b_pflicht': 'use_mandatory',\n",
    "    'geometry': 'geometry'\n",
    "}\n",
    "\n",
    "# Translate the columns in the GeoDataFrame\n",
    "gdf_renamed = gdf.rename(columns=translations_en)\n",
    "\n",
    "# Display the first few rows of the translated GeoDataFrame\n",
    "gdf_renamed.head()"
   ],
   "metadata": {
    "collapsed": false
   },
   "id": "fb30e3e075a6f2ad",
   "execution_count": null
  },
  {
   "cell_type": "code",
   "outputs": [],
   "source": [
    "# drop column 'service_type'\n",
    "gdf_renamed = gdf_renamed.drop(columns='service_type')\n",
    "\n",
    "# translate values of the 'rva_type' column\n",
    "gdf_renamed['lane_type'].value_counts()\n",
    "\n",
    "# Translation dictionary for 'lane_type'\n",
    "translations_lane_type = {\n",
    "    'Radwege': 'bike path',\n",
    "    'Schutzstreifen': 'protected lane',\n",
    "    'Radfahrstreifen': 'bicycle lane',\n",
    "    'Bussonderfahrstreifen': 'bus priority lane'\n",
    "}\n",
    "\n",
    "# Translate the values in the 'lane_type' column\n",
    "gdf_renamed['lane_type'] = gdf_renamed['lane_type'].replace(translations_lane_type)\n",
    "\n",
    "# translate ja, nein in 'use_mandatory' column\n",
    "gdf_renamed['use_mandatory'].value_counts()\n",
    "\n",
    "# Translation dictionary for 'use_mandatory'\n",
    "translations_use_mandatory = {\n",
    "    'ja': 'yes',\n",
    "    'nein': 'no'\n",
    "}\n",
    "\n",
    "# Translate the values in the 'use_mandatory' column\n",
    "gdf_renamed['use_mandatory'] = gdf_renamed['use_mandatory'].map(translations_use_mandatory)"
   ],
   "metadata": {
    "collapsed": false
   },
   "id": "ba2c9c92524b9a48",
   "execution_count": null
  },
  {
   "cell_type": "code",
   "outputs": [],
   "source": [
    "# Display the first few rows of the translated GeoDataFrame\n",
    "print(gdf_renamed.head())"
   ],
   "metadata": {
    "collapsed": false
   },
   "id": "c1a3005afe93fe6d",
   "execution_count": null
  },
  {
   "cell_type": "code",
   "outputs": [],
   "source": [
    "# Check the CRS of the GeoDataFrame\n",
    "if gdf_renamed.crs != 'epsg:4326':\n",
    "    gdf_renamed = gdf_renamed.to_crs('epsg:4326')"
   ],
   "metadata": {
    "collapsed": false
   },
   "id": "d5918efbb5aa8b91",
   "execution_count": null
  },
  {
   "cell_type": "code",
   "outputs": [],
   "source": [
    "# Save the translated GeoDataFrame to a new GeoJSON file\n",
    "gdf_renamed.to_file('data/bike_lanes_Berlin.geojson', driver='GeoJSON')"
   ],
   "metadata": {
    "collapsed": false
   },
   "id": "a239d6564f602930",
   "execution_count": null
  },
  {
   "cell_type": "markdown",
   "source": [
    "### Data Source 3: Air Quality Data retrieved from API Luftmessnetz Berlin\n",
    "---\n"
   ],
   "metadata": {
    "collapsed": false
   },
   "id": "747de3b3186d9dfb"
  },
  {
   "cell_type": "code",
   "outputs": [],
   "source": [
    "import requests\n",
    "\n",
    "# Fetch the list of active stations from the API\n",
    "stations = requests.get('https://luftdaten.berlin.de/api/stations?active=true').json()"
   ],
   "metadata": {
    "collapsed": false,
    "ExecuteTime": {
     "end_time": "2024-04-19T18:17:34.062125Z",
     "start_time": "2024-04-19T18:17:33.966581Z"
    }
   },
   "id": "35eeac273f584248",
   "execution_count": 55
  },
  {
   "cell_type": "code",
   "outputs": [
    {
     "data": {
      "text/plain": "              name   code   codeEu  \\\n0      010 Wedding  mc010  DEBE010   \n1   018 Schöneberg  mc018  DEBE018   \n2  027 Marienfelde  mc027  DEBE027   \n3    032 Grunewald  mc032  DEBE032   \n4     042 Neukölln  mc042  DEBE034   \n\n                                      address          lat          lng  \\\n0  13353 Wedding, Amrumer Str./Limburger Str.  52.54291000  13.34926000   \n1              10823 Berlin, Belziger Str. 52  52.48579000  13.34885000   \n2                12307 Berlin, Schichauweg 60  52.39840000  13.36807500   \n3                      14193 Berlin, Jagen 91  52.47319000  13.22514000   \n4                 12047 Berlin, Nansenstr. 10  52.48945100  13.43084400   \n\n   active stationgroups             measuringStart measuringEnd  \\\n0    True  [background]  1984-11-01T00:00:00+01:00         None   \n1    True  [background]  1986-11-01T00:00:00+01:00         None   \n2    True      [suburb]  1989-04-01T00:00:00+02:00         None   \n3    True      [suburb]  1986-10-01T00:00:00+01:00         None   \n4    True  [background]  1986-03-01T00:00:00+01:00         None   \n\n   measuringHeight                                                url  \\\n0              NaN  http://www.stadtentwicklung.berlin.de/umwelt/u...   \n1              NaN  http://www.stadtentwicklung.berlin.de/umwelt/u...   \n2              NaN  http://www.stadtentwicklung.berlin.de/umwelt/u...   \n3              3.0  http://www.stadtentwicklung.berlin.de/umwelt/u...   \n4              NaN  http://www.stadtentwicklung.berlin.de/umwelt/u...   \n\n                                         information  \\\n0  Die Station befindet sich an der Beuth Hochsch...   \n1  Tempelhof-Schöneberg, auf dem Gelände des Sena...   \n2  Tempelhof-Schöneberg, auf dem Versuchsfeld Mar...   \n3  Charlottenburg-Wilmersdorf, im Forst Grunewald...   \n4  Neukölln, auf dem Gelände einer Kindertagesstätte   \n\n                                          components  \\\n0  [pm10_1h, pm10_24h, pm10_24hg, pm10_1m, pm10_1...   \n1  [no_1h, no_24h, no_1m, no_1y, no2_1h, no2_24h,...   \n2  [pm10_24h, no_1h, no_24h, no_1m, no_1y, no2_1h...   \n3  [pm10_1h, pm10_24h, pm10_24hg, pm10_1m, pm10_1...   \n4  [pm10_1h, pm10_24h, pm10_24hg, pm10_1m, pm10_1...   \n\n                                    activeComponents  \\\n0  [pm10_1h, pm10_24h, pm10_24hg, pm10_1m, pm10_1...   \n1  [no_1h, no_24h, no_1m, no_1y, no2_1h, no2_24h,...   \n2  [no_1h, no_24h, no_1m, no_1y, no2_1h, no2_24h,...   \n3  [pm10_1h, pm10_24h, pm10_24hg, pm10_1m, pm10_1...   \n4  [pm10_1h, pm10_24h, pm10_24hg, pm10_1m, pm10_1...   \n\n                                            partials                  lqis  \\\n0        [pm2_gravi_24h, pm2_gravi_1m, pm2_gravi_1y]  [lqi, o3, pm10, no2]   \n1                                                 []            [lqi, no2]   \n2                                                 []        [lqi, o3, no2]   \n3                                                 []  [lqi, o3, pm10, no2]   \n4  [pm2_gravi_24h, pm2_gravi_1m, pm2_gravi_1y, pm...  [lqi, o3, pm10, no2]   \n\n                                             exceeds  \n0  [no2_1h, o3_1h, o3_8hg, pm10_24h, no2_1y, pm10...  \n1                                   [no2_1h, no2_1y]  \n2                    [no2_1h, o3_1h, o3_8hg, no2_1y]  \n3  [no2_1h, o3_1h, o3_8hg, pm10_24h, no2_1y, pm10...  \n4  [no2_1h, o3_1h, o3_8hg, pm10_24h, no2_1y, pm10...  ",
      "text/html": "<div>\n<style scoped>\n    .dataframe tbody tr th:only-of-type {\n        vertical-align: middle;\n    }\n\n    .dataframe tbody tr th {\n        vertical-align: top;\n    }\n\n    .dataframe thead th {\n        text-align: right;\n    }\n</style>\n<table border=\"1\" class=\"dataframe\">\n  <thead>\n    <tr style=\"text-align: right;\">\n      <th></th>\n      <th>name</th>\n      <th>code</th>\n      <th>codeEu</th>\n      <th>address</th>\n      <th>lat</th>\n      <th>lng</th>\n      <th>active</th>\n      <th>stationgroups</th>\n      <th>measuringStart</th>\n      <th>measuringEnd</th>\n      <th>measuringHeight</th>\n      <th>url</th>\n      <th>information</th>\n      <th>components</th>\n      <th>activeComponents</th>\n      <th>partials</th>\n      <th>lqis</th>\n      <th>exceeds</th>\n    </tr>\n  </thead>\n  <tbody>\n    <tr>\n      <th>0</th>\n      <td>010 Wedding</td>\n      <td>mc010</td>\n      <td>DEBE010</td>\n      <td>13353 Wedding, Amrumer Str./Limburger Str.</td>\n      <td>52.54291000</td>\n      <td>13.34926000</td>\n      <td>True</td>\n      <td>[background]</td>\n      <td>1984-11-01T00:00:00+01:00</td>\n      <td>None</td>\n      <td>NaN</td>\n      <td>http://www.stadtentwicklung.berlin.de/umwelt/u...</td>\n      <td>Die Station befindet sich an der Beuth Hochsch...</td>\n      <td>[pm10_1h, pm10_24h, pm10_24hg, pm10_1m, pm10_1...</td>\n      <td>[pm10_1h, pm10_24h, pm10_24hg, pm10_1m, pm10_1...</td>\n      <td>[pm2_gravi_24h, pm2_gravi_1m, pm2_gravi_1y]</td>\n      <td>[lqi, o3, pm10, no2]</td>\n      <td>[no2_1h, o3_1h, o3_8hg, pm10_24h, no2_1y, pm10...</td>\n    </tr>\n    <tr>\n      <th>1</th>\n      <td>018 Schöneberg</td>\n      <td>mc018</td>\n      <td>DEBE018</td>\n      <td>10823 Berlin, Belziger Str. 52</td>\n      <td>52.48579000</td>\n      <td>13.34885000</td>\n      <td>True</td>\n      <td>[background]</td>\n      <td>1986-11-01T00:00:00+01:00</td>\n      <td>None</td>\n      <td>NaN</td>\n      <td>http://www.stadtentwicklung.berlin.de/umwelt/u...</td>\n      <td>Tempelhof-Schöneberg, auf dem Gelände des Sena...</td>\n      <td>[no_1h, no_24h, no_1m, no_1y, no2_1h, no2_24h,...</td>\n      <td>[no_1h, no_24h, no_1m, no_1y, no2_1h, no2_24h,...</td>\n      <td>[]</td>\n      <td>[lqi, no2]</td>\n      <td>[no2_1h, no2_1y]</td>\n    </tr>\n    <tr>\n      <th>2</th>\n      <td>027 Marienfelde</td>\n      <td>mc027</td>\n      <td>DEBE027</td>\n      <td>12307 Berlin, Schichauweg 60</td>\n      <td>52.39840000</td>\n      <td>13.36807500</td>\n      <td>True</td>\n      <td>[suburb]</td>\n      <td>1989-04-01T00:00:00+02:00</td>\n      <td>None</td>\n      <td>NaN</td>\n      <td>http://www.stadtentwicklung.berlin.de/umwelt/u...</td>\n      <td>Tempelhof-Schöneberg, auf dem Versuchsfeld Mar...</td>\n      <td>[pm10_24h, no_1h, no_24h, no_1m, no_1y, no2_1h...</td>\n      <td>[no_1h, no_24h, no_1m, no_1y, no2_1h, no2_24h,...</td>\n      <td>[]</td>\n      <td>[lqi, o3, no2]</td>\n      <td>[no2_1h, o3_1h, o3_8hg, no2_1y]</td>\n    </tr>\n    <tr>\n      <th>3</th>\n      <td>032 Grunewald</td>\n      <td>mc032</td>\n      <td>DEBE032</td>\n      <td>14193 Berlin, Jagen 91</td>\n      <td>52.47319000</td>\n      <td>13.22514000</td>\n      <td>True</td>\n      <td>[suburb]</td>\n      <td>1986-10-01T00:00:00+01:00</td>\n      <td>None</td>\n      <td>3.0</td>\n      <td>http://www.stadtentwicklung.berlin.de/umwelt/u...</td>\n      <td>Charlottenburg-Wilmersdorf, im Forst Grunewald...</td>\n      <td>[pm10_1h, pm10_24h, pm10_24hg, pm10_1m, pm10_1...</td>\n      <td>[pm10_1h, pm10_24h, pm10_24hg, pm10_1m, pm10_1...</td>\n      <td>[]</td>\n      <td>[lqi, o3, pm10, no2]</td>\n      <td>[no2_1h, o3_1h, o3_8hg, pm10_24h, no2_1y, pm10...</td>\n    </tr>\n    <tr>\n      <th>4</th>\n      <td>042 Neukölln</td>\n      <td>mc042</td>\n      <td>DEBE034</td>\n      <td>12047 Berlin, Nansenstr. 10</td>\n      <td>52.48945100</td>\n      <td>13.43084400</td>\n      <td>True</td>\n      <td>[background]</td>\n      <td>1986-03-01T00:00:00+01:00</td>\n      <td>None</td>\n      <td>NaN</td>\n      <td>http://www.stadtentwicklung.berlin.de/umwelt/u...</td>\n      <td>Neukölln, auf dem Gelände einer Kindertagesstätte</td>\n      <td>[pm10_1h, pm10_24h, pm10_24hg, pm10_1m, pm10_1...</td>\n      <td>[pm10_1h, pm10_24h, pm10_24hg, pm10_1m, pm10_1...</td>\n      <td>[pm2_gravi_24h, pm2_gravi_1m, pm2_gravi_1y, pm...</td>\n      <td>[lqi, o3, pm10, no2]</td>\n      <td>[no2_1h, o3_1h, o3_8hg, pm10_24h, no2_1y, pm10...</td>\n    </tr>\n  </tbody>\n</table>\n</div>"
     },
     "execution_count": 56,
     "metadata": {},
     "output_type": "execute_result"
    }
   ],
   "source": [
    "# Convert json to pandas dataframe\n",
    "stations_df = pd.DataFrame(stations)\n",
    "\n",
    "# Display the first few rows of the DataFrame\n",
    "stations_df.head()"
   ],
   "metadata": {
    "collapsed": false,
    "ExecuteTime": {
     "end_time": "2024-04-19T18:17:34.739821Z",
     "start_time": "2024-04-19T18:17:34.710459Z"
    }
   },
   "id": "e5fc3121ae58a5",
   "execution_count": 56
  },
  {
   "cell_type": "code",
   "outputs": [
    {
     "data": {
      "text/plain": "              name   code   codeEu  \\\n0      010 Wedding  mc010  DEBE010   \n1   018 Schöneberg  mc018  DEBE018   \n2  027 Marienfelde  mc027  DEBE027   \n3    032 Grunewald  mc032  DEBE032   \n4     042 Neukölln  mc042  DEBE034   \n\n                                      address          lat          lng  \n0  13353 Wedding, Amrumer Str./Limburger Str.  52.54291000  13.34926000  \n1              10823 Berlin, Belziger Str. 52  52.48579000  13.34885000  \n2                12307 Berlin, Schichauweg 60  52.39840000  13.36807500  \n3                      14193 Berlin, Jagen 91  52.47319000  13.22514000  \n4                 12047 Berlin, Nansenstr. 10  52.48945100  13.43084400  ",
      "text/html": "<div>\n<style scoped>\n    .dataframe tbody tr th:only-of-type {\n        vertical-align: middle;\n    }\n\n    .dataframe tbody tr th {\n        vertical-align: top;\n    }\n\n    .dataframe thead th {\n        text-align: right;\n    }\n</style>\n<table border=\"1\" class=\"dataframe\">\n  <thead>\n    <tr style=\"text-align: right;\">\n      <th></th>\n      <th>name</th>\n      <th>code</th>\n      <th>codeEu</th>\n      <th>address</th>\n      <th>lat</th>\n      <th>lng</th>\n    </tr>\n  </thead>\n  <tbody>\n    <tr>\n      <th>0</th>\n      <td>010 Wedding</td>\n      <td>mc010</td>\n      <td>DEBE010</td>\n      <td>13353 Wedding, Amrumer Str./Limburger Str.</td>\n      <td>52.54291000</td>\n      <td>13.34926000</td>\n    </tr>\n    <tr>\n      <th>1</th>\n      <td>018 Schöneberg</td>\n      <td>mc018</td>\n      <td>DEBE018</td>\n      <td>10823 Berlin, Belziger Str. 52</td>\n      <td>52.48579000</td>\n      <td>13.34885000</td>\n    </tr>\n    <tr>\n      <th>2</th>\n      <td>027 Marienfelde</td>\n      <td>mc027</td>\n      <td>DEBE027</td>\n      <td>12307 Berlin, Schichauweg 60</td>\n      <td>52.39840000</td>\n      <td>13.36807500</td>\n    </tr>\n    <tr>\n      <th>3</th>\n      <td>032 Grunewald</td>\n      <td>mc032</td>\n      <td>DEBE032</td>\n      <td>14193 Berlin, Jagen 91</td>\n      <td>52.47319000</td>\n      <td>13.22514000</td>\n    </tr>\n    <tr>\n      <th>4</th>\n      <td>042 Neukölln</td>\n      <td>mc042</td>\n      <td>DEBE034</td>\n      <td>12047 Berlin, Nansenstr. 10</td>\n      <td>52.48945100</td>\n      <td>13.43084400</td>\n    </tr>\n  </tbody>\n</table>\n</div>"
     },
     "execution_count": 57,
     "metadata": {},
     "output_type": "execute_result"
    }
   ],
   "source": [
    "# drop unnecessary columns\n",
    "stations_df = stations_df.iloc[:, 0:6]\n",
    "stations_df.head()"
   ],
   "metadata": {
    "collapsed": false,
    "ExecuteTime": {
     "end_time": "2024-04-19T18:17:35.281096Z",
     "start_time": "2024-04-19T18:17:35.275708Z"
    }
   },
   "id": "201616bba5625053",
   "execution_count": 57
  },
  {
   "cell_type": "code",
   "outputs": [],
   "source": [
    "# Extract the station names and coordinates\n",
    "station_codes = [station['code'] for station in stations]"
   ],
   "metadata": {
    "collapsed": false,
    "ExecuteTime": {
     "end_time": "2024-04-19T18:17:36.471963Z",
     "start_time": "2024-04-19T18:17:36.469706Z"
    }
   },
   "id": "eca6e81866d8b6e5",
   "execution_count": 58
  },
  {
   "cell_type": "code",
   "outputs": [
    {
     "name": "stdout",
     "output_type": "stream",
     "text": [
      "Data for station mc010 fetched successfully.\n",
      "No data found for station mc018.\n",
      "No data found for station mc027.\n",
      "Data for station mc032 fetched successfully.\n",
      "Data for station mc042 fetched successfully.\n",
      "Data for station mc077 fetched successfully.\n",
      "Data for station mc085 fetched successfully.\n",
      "No data found for station mc115.\n",
      "Data for station mc117 fetched successfully.\n",
      "Data for station mc124 fetched successfully.\n",
      "No data found for station mc145.\n",
      "Data for station mc171 fetched successfully.\n",
      "Data for station mc174 fetched successfully.\n",
      "No data found for station mc282.\n",
      "Data for station mc190 fetched successfully.\n",
      "Data for station MC221 fetched successfully.\n",
      "No data found for station mc144.\n"
     ]
    }
   ],
   "source": [
    "# trying to access the data for each station and check if successful\n",
    "responses = []\n",
    "\n",
    "# loop through the station codes and get the data for each station, check if response is empty\n",
    "for code in station_codes:\n",
    "    url = f\"https://luftdaten.berlin.de/api/stations/{code}/data?core=pm10&period=24h&timespan=custom&start=01.01.2021&end=31.12.2021\"\n",
    "    response = requests.get(url)\n",
    "    if response.json():\n",
    "        print(f\"Data for station {code} fetched successfully.\")\n",
    "        # add the response to the list of responses\n",
    "        responses.append(response)\n",
    "    else:\n",
    "        print(f\"No data found for station {code}.\")"
   ],
   "metadata": {
    "collapsed": false,
    "ExecuteTime": {
     "end_time": "2024-04-19T18:17:47.755270Z",
     "start_time": "2024-04-19T18:17:46.222400Z"
    }
   },
   "id": "1d75effc03b861aa",
   "execution_count": 60
  },
  {
   "cell_type": "code",
   "outputs": [
    {
     "data": {
      "text/plain": "         date  value pollutant   code\n0  2021-12-31    8.0      pm10  mc010\n1  2021-12-30   13.0      pm10  mc010\n2  2021-12-29   17.0      pm10  mc010\n3  2021-12-28   39.0      pm10  mc010\n4  2021-12-27   39.0      pm10  mc010",
      "text/html": "<div>\n<style scoped>\n    .dataframe tbody tr th:only-of-type {\n        vertical-align: middle;\n    }\n\n    .dataframe tbody tr th {\n        vertical-align: top;\n    }\n\n    .dataframe thead th {\n        text-align: right;\n    }\n</style>\n<table border=\"1\" class=\"dataframe\">\n  <thead>\n    <tr style=\"text-align: right;\">\n      <th></th>\n      <th>date</th>\n      <th>value</th>\n      <th>pollutant</th>\n      <th>code</th>\n    </tr>\n  </thead>\n  <tbody>\n    <tr>\n      <th>0</th>\n      <td>2021-12-31</td>\n      <td>8.0</td>\n      <td>pm10</td>\n      <td>mc010</td>\n    </tr>\n    <tr>\n      <th>1</th>\n      <td>2021-12-30</td>\n      <td>13.0</td>\n      <td>pm10</td>\n      <td>mc010</td>\n    </tr>\n    <tr>\n      <th>2</th>\n      <td>2021-12-29</td>\n      <td>17.0</td>\n      <td>pm10</td>\n      <td>mc010</td>\n    </tr>\n    <tr>\n      <th>3</th>\n      <td>2021-12-28</td>\n      <td>39.0</td>\n      <td>pm10</td>\n      <td>mc010</td>\n    </tr>\n    <tr>\n      <th>4</th>\n      <td>2021-12-27</td>\n      <td>39.0</td>\n      <td>pm10</td>\n      <td>mc010</td>\n    </tr>\n  </tbody>\n</table>\n</div>"
     },
     "execution_count": 61,
     "metadata": {},
     "output_type": "execute_result"
    }
   ],
   "source": [
    "# Define the date range and pollutants of interest\n",
    "date_start = \"01.01.2021\"\n",
    "date_end = \"31.12.2021\"\n",
    "pollutants = [\"pm10\", \"pm25\"]\n",
    "\n",
    "# Function to fetch air quality data for a given station and pollutant\n",
    "def fetch_pollutant_data(code, pollutant):\n",
    "    url = f\"https://luftdaten.berlin.de/api/stations/{code}/data?core={pollutant}&period=24h&timespan=custom&start={date_start}&end={date_end}\"\n",
    "    response = requests.get(url)\n",
    "    if response.status_code == 200:\n",
    "        data = response.json()\n",
    "        return [{\"date\": item['datetime'].split('T')[0], \"value\": item['value'], \"pollutant\": pollutant} for item in data]\n",
    "    else:\n",
    "        return []\n",
    "\n",
    "# Initialize an empty list to hold all pollutant data\n",
    "all_pollutant_data = []\n",
    "\n",
    "# Loop through each station and each pollutant, fetching and appending the data\n",
    "for station in stations_df.to_dict('records'):\n",
    "    for pollutant in pollutants:\n",
    "        pollutant_data = fetch_pollutant_data(station['code'], pollutant)\n",
    "        # Add station code to each data point for merging later\n",
    "        for data_point in pollutant_data:\n",
    "            data_point['code'] = station['code']\n",
    "        all_pollutant_data.extend(pollutant_data)\n",
    "\n",
    "# Convert the collected pollutant data into a DataFrame\n",
    "pollutant_df = pd.DataFrame(all_pollutant_data)\n",
    "\n",
    "# Display the first few rows of the DataFrame\n",
    "pollutant_df.head()"
   ],
   "metadata": {
    "collapsed": false,
    "ExecuteTime": {
     "end_time": "2024-04-19T18:17:56.607233Z",
     "start_time": "2024-04-19T18:17:52.217019Z"
    }
   },
   "id": "5b98150c4f1f8c57",
   "execution_count": 61
  },
  {
   "cell_type": "code",
   "outputs": [
    {
     "name": "stdout",
     "output_type": "stream",
     "text": [
      "          name   code   codeEu                                     address  \\\n",
      "0  010 Wedding  mc010  DEBE010  13353 Wedding, Amrumer Str./Limburger Str.   \n",
      "1  010 Wedding  mc010  DEBE010  13353 Wedding, Amrumer Str./Limburger Str.   \n",
      "2  010 Wedding  mc010  DEBE010  13353 Wedding, Amrumer Str./Limburger Str.   \n",
      "3  010 Wedding  mc010  DEBE010  13353 Wedding, Amrumer Str./Limburger Str.   \n",
      "4  010 Wedding  mc010  DEBE010  13353 Wedding, Amrumer Str./Limburger Str.   \n",
      "\n",
      "           lat          lng       date  value pollutant  \n",
      "0  52.54291000  13.34926000 2021-12-31    8.0      pm10  \n",
      "1  52.54291000  13.34926000 2021-12-30   13.0      pm10  \n",
      "2  52.54291000  13.34926000 2021-12-29   17.0      pm10  \n",
      "3  52.54291000  13.34926000 2021-12-28   39.0      pm10  \n",
      "4  52.54291000  13.34926000 2021-12-27   39.0      pm10  \n"
     ]
    }
   ],
   "source": [
    "# Convert date strings to datetime objects for both DataFrames\n",
    "pollutant_df['date'] = pd.to_datetime(pollutant_df['date'])\n",
    "\n",
    "# Merge the pollutant data with the stations DataFrame based on the station code\n",
    "# and optionally the date if your stations_df includes a 'date' column\n",
    "merged_df = pd.merge(stations_df, pollutant_df, on='code', how='left')\n",
    "\n",
    "# You now have a merged DataFrame `merged_df` with stations and their corresponding air quality data\n",
    "print(merged_df.head())"
   ],
   "metadata": {
    "collapsed": false,
    "ExecuteTime": {
     "end_time": "2024-04-19T18:18:03.812423Z",
     "start_time": "2024-04-19T18:18:03.785194Z"
    }
   },
   "id": "2dfc0c13dc86fa1a",
   "execution_count": 62
  },
  {
   "cell_type": "code",
   "outputs": [],
   "source": [
    "# Save the merged DataFrame to a new CSV file\n",
    "merged_df.to_csv('data/air_quality_Berlin_2021_all.csv', index=False)"
   ],
   "metadata": {
    "collapsed": false,
    "ExecuteTime": {
     "end_time": "2024-04-19T18:18:33.412630Z",
     "start_time": "2024-04-19T18:18:33.255018Z"
    }
   },
   "id": "9e48b9c5ab05d422",
   "execution_count": 64
  },
  {
   "cell_type": "code",
   "outputs": [
    {
     "data": {
      "text/plain": "<Figure size 1200x600 with 1 Axes>",
      "image/png": "[encoded data removed]"
     },
     "metadata": {},
     "output_type": "display_data"
    }
   ],
   "source": [
    "# plot pollutant values as line plot \n",
    "import matplotlib.pyplot as plt\n",
    "\n",
    "# Filter the DataFrame for a specific pollutant\n",
    "pm10_data = merged_df[merged_df['pollutant'] == 'pm10']\n",
    "\n",
    "# Group the data by date and calculate the mean value for each day\n",
    "daily_pm10 = pm10_data.groupby('date')['value'].mean()\n",
    "\n",
    "# Plot the daily PM10 values\n",
    "plt.figure(figsize=(12, 6))\n",
    "plt.plot(daily_pm10.index, daily_pm10.values, marker='o', color='b', label='PM10')\n",
    "plt.title('Daily PM10 Values in Berlin (2021)')\n",
    "plt.xlabel('Date')\n",
    "plt.ylabel('PM10 Value')\n",
    "plt.xticks(rotation=45)\n",
    "plt.grid(True)\n",
    "plt.legend()\n",
    "plt.tight_layout()\n",
    "plt.show()"
   ],
   "metadata": {
    "collapsed": false,
    "ExecuteTime": {
     "end_time": "2024-04-19T18:18:36.884494Z",
     "start_time": "2024-04-19T18:18:36.734825Z"
    }
   },
   "id": "723f3c10f02ad7",
   "execution_count": 65
  },
  {
   "cell_type": "code",
   "outputs": [
    {
     "data": {
      "text/plain": "<folium.folium.Map at 0x147d6f110>",
      "text/html": "<div style=\"width:100%;\"><div style=\"position:relative;width:100%;height:0;padding-bottom:60%;\"><span style=\"color:#565656\">Make this Notebook Trusted to load map: File -> Trust Notebook</span><iframe srcdoc=\"&lt;!DOCTYPE html&gt;\n&lt;html&gt;\n&lt;head&gt;\n    \n    &lt;meta http-equiv=&quot;content-type&quot; content=&quot;text/html; charset=UTF-8&quot; /&gt;\n    \n        &lt;script&gt;\n            L_NO_TOUCH = false;\n            L_DISABLE_3D = false;\n        &lt;/script&gt;\n    \n    &lt;style&gt;html, body {width: 100%;height: 100%;margin: 0;padding: 0;}&lt;/style&gt;\n    &lt;style&gt;#map {position:absolute;top:0;bottom:0;right:0;left:0;}&lt;/style&gt;\n    &lt;script src=&quot;https://cdn.jsdelivr.net/npm/leaflet@1.9.3/dist/leaflet.js&quot;&gt;&lt;/script&gt;\n    &lt;script src=&quot;https://code.jquery.com/jquery-3.7.1.min.js&quot;&gt;&lt;/script&gt;\n    &lt;script src=&quot;https://cdn.jsdelivr.net/npm/bootstrap@5.2.2/dist/js/bootstrap.bundle.min.js&quot;&gt;&lt;/script&gt;\n    &lt;script src=&quot;https://cdnjs.cloudflare.com/ajax/libs/Leaflet.awesome-markers/2.0.2/leaflet.awesome-markers.js&quot;&gt;&lt;/script&gt;\n    &lt;link rel=&quot;stylesheet&quot; href=&quot;https://cdn.jsdelivr.net/npm/leaflet@1.9.3/dist/leaflet.css&quot;/&gt;\n    &lt;link rel=&quot;stylesheet&quot; href=&quot;https://cdn.jsdelivr.net/npm/bootstrap@5.2.2/dist/css/bootstrap.min.css&quot;/&gt;\n    &lt;link rel=&quot;stylesheet&quot; href=&quot;https://netdna.bootstrapcdn.com/bootstrap/3.0.0/css/bootstrap.min.css&quot;/&gt;\n    &lt;link rel=&quot;stylesheet&quot; href=&quot;https://cdn.jsdelivr.net/npm/@fortawesome/fontawesome-free@6.2.0/css/all.min.css&quot;/&gt;\n    &lt;link rel=&quot;stylesheet&quot; href=&quot;https://cdnjs.cloudflare.com/ajax/libs/Leaflet.awesome-markers/2.0.2/leaflet.awesome-markers.css&quot;/&gt;\n    &lt;link rel=&quot;stylesheet&quot; href=&quot;https://cdn.jsdelivr.net/gh/python-visualization/folium/folium/templates/leaflet.awesome.rotate.min.css&quot;/&gt;\n    \n            &lt;meta name=&quot;viewport&quot; content=&quot;width=device-width,\n                initial-scale=1.0, maximum-scale=1.0, user-scalable=no&quot; /&gt;\n            &lt;style&gt;\n                #map_22577fe541991d31b20f04e042b14eb0 {\n                    position: relative;\n                    width: 100.0%;\n                    height: 100.0%;\n                    left: 0.0%;\n                    top: 0.0%;\n                }\n                .leaflet-container { font-size: 1rem; }\n            &lt;/style&gt;\n        \n&lt;/head&gt;\n&lt;body&gt;\n    \n    \n            &lt;div class=&quot;folium-map&quot; id=&quot;map_22577fe541991d31b20f04e042b14eb0&quot; &gt;&lt;/div&gt;\n        \n&lt;/body&gt;\n&lt;script&gt;\n    \n    \n            var map_22577fe541991d31b20f04e042b14eb0 = L.map(\n                &quot;map_22577fe541991d31b20f04e042b14eb0&quot;,\n                {\n                    center: [52.52, 13.405],\n                    crs: L.CRS.EPSG3857,\n                    zoom: 11,\n                    zoomControl: true,\n                    preferCanvas: false,\n                }\n            );\n\n            \n\n        \n    \n            var tile_layer_4a3084132edc5b9c6b4d9d659f9f3e4d = L.tileLayer(\n                &quot;https://tile.openstreetmap.org/{z}/{x}/{y}.png&quot;,\n                {&quot;attribution&quot;: &quot;\\u0026copy; \\u003ca href=\\&quot;https://www.openstreetmap.org/copyright\\&quot;\\u003eOpenStreetMap\\u003c/a\\u003e contributors&quot;, &quot;detectRetina&quot;: false, &quot;maxNativeZoom&quot;: 19, &quot;maxZoom&quot;: 19, &quot;minZoom&quot;: 0, &quot;noWrap&quot;: false, &quot;opacity&quot;: 1, &quot;subdomains&quot;: &quot;abc&quot;, &quot;tms&quot;: false}\n            );\n        \n    \n            tile_layer_4a3084132edc5b9c6b4d9d659f9f3e4d.addTo(map_22577fe541991d31b20f04e042b14eb0);\n        \n    \n            var marker_1e80f095b840156a92018bd298bd93ba = L.marker(\n                [52.54291, 13.34926],\n                {}\n            ).addTo(map_22577fe541991d31b20f04e042b14eb0);\n        \n    \n            var icon_6607732c68e61039549bac096ee437a4 = L.AwesomeMarkers.icon(\n                {&quot;extraClasses&quot;: &quot;fa-rotate-0&quot;, &quot;icon&quot;: &quot;info-sign&quot;, &quot;iconColor&quot;: &quot;white&quot;, &quot;markerColor&quot;: &quot;blue&quot;, &quot;prefix&quot;: &quot;glyphicon&quot;}\n            );\n            marker_1e80f095b840156a92018bd298bd93ba.setIcon(icon_6607732c68e61039549bac096ee437a4);\n        \n    \n        var popup_4621daa33180262fc6119d431cb017f2 = L.popup({&quot;maxWidth&quot;: &quot;100%&quot;});\n\n        \n            \n                var html_99aea26902c68ef34bfdc3ca5d5a1bcb = $(`&lt;div id=&quot;html_99aea26902c68ef34bfdc3ca5d5a1bcb&quot; style=&quot;width: 100.0%; height: 100.0%;&quot;&gt;010 Wedding&lt;/div&gt;`)[0];\n                popup_4621daa33180262fc6119d431cb017f2.setContent(html_99aea26902c68ef34bfdc3ca5d5a1bcb);\n            \n        \n\n        marker_1e80f095b840156a92018bd298bd93ba.bindPopup(popup_4621daa33180262fc6119d431cb017f2)\n        ;\n\n        \n    \n    \n            var marker_0534dd3d6f7de97d18e63b34f860852e = L.marker(\n                [52.48579, 13.34885],\n                {}\n            ).addTo(map_22577fe541991d31b20f04e042b14eb0);\n        \n    \n            var icon_176003c53076d8e19e3053a33ab3c385 = L.AwesomeMarkers.icon(\n                {&quot;extraClasses&quot;: &quot;fa-rotate-0&quot;, &quot;icon&quot;: &quot;info-sign&quot;, &quot;iconColor&quot;: &quot;white&quot;, &quot;markerColor&quot;: &quot;blue&quot;, &quot;prefix&quot;: &quot;glyphicon&quot;}\n            );\n            marker_0534dd3d6f7de97d18e63b34f860852e.setIcon(icon_176003c53076d8e19e3053a33ab3c385);\n        \n    \n        var popup_2606c9d3d3541410bd83db01f4a7f6e9 = L.popup({&quot;maxWidth&quot;: &quot;100%&quot;});\n\n        \n            \n                var html_97943fb930eb55a4f0ce2249290b0c8a = $(`&lt;div id=&quot;html_97943fb930eb55a4f0ce2249290b0c8a&quot; style=&quot;width: 100.0%; height: 100.0%;&quot;&gt;018 Schöneberg&lt;/div&gt;`)[0];\n                popup_2606c9d3d3541410bd83db01f4a7f6e9.setContent(html_97943fb930eb55a4f0ce2249290b0c8a);\n            \n        \n\n        marker_0534dd3d6f7de97d18e63b34f860852e.bindPopup(popup_2606c9d3d3541410bd83db01f4a7f6e9)\n        ;\n\n        \n    \n    \n            var marker_f179166159b13b068d4a2418083d5a52 = L.marker(\n                [52.3984, 13.368075],\n                {}\n            ).addTo(map_22577fe541991d31b20f04e042b14eb0);\n        \n    \n            var icon_aa8fc9a41d7615949684300b44bd89da = L.AwesomeMarkers.icon(\n                {&quot;extraClasses&quot;: &quot;fa-rotate-0&quot;, &quot;icon&quot;: &quot;info-sign&quot;, &quot;iconColor&quot;: &quot;white&quot;, &quot;markerColor&quot;: &quot;blue&quot;, &quot;prefix&quot;: &quot;glyphicon&quot;}\n            );\n            marker_f179166159b13b068d4a2418083d5a52.setIcon(icon_aa8fc9a41d7615949684300b44bd89da);\n        \n    \n        var popup_11daf65a9225d65bea0ea207cb4f478c = L.popup({&quot;maxWidth&quot;: &quot;100%&quot;});\n\n        \n            \n                var html_9507bcc9b4d5ab0aa554f205bb42d0f7 = $(`&lt;div id=&quot;html_9507bcc9b4d5ab0aa554f205bb42d0f7&quot; style=&quot;width: 100.0%; height: 100.0%;&quot;&gt;027 Marienfelde&lt;/div&gt;`)[0];\n                popup_11daf65a9225d65bea0ea207cb4f478c.setContent(html_9507bcc9b4d5ab0aa554f205bb42d0f7);\n            \n        \n\n        marker_f179166159b13b068d4a2418083d5a52.bindPopup(popup_11daf65a9225d65bea0ea207cb4f478c)\n        ;\n\n        \n    \n    \n            var marker_31bf1cd980bd78984f8fc307a8b09162 = L.marker(\n                [52.47319, 13.22514],\n                {}\n            ).addTo(map_22577fe541991d31b20f04e042b14eb0);\n        \n    \n            var icon_d773a72999e38f69d8c2cba76115ec27 = L.AwesomeMarkers.icon(\n                {&quot;extraClasses&quot;: &quot;fa-rotate-0&quot;, &quot;icon&quot;: &quot;info-sign&quot;, &quot;iconColor&quot;: &quot;white&quot;, &quot;markerColor&quot;: &quot;blue&quot;, &quot;prefix&quot;: &quot;glyphicon&quot;}\n            );\n            marker_31bf1cd980bd78984f8fc307a8b09162.setIcon(icon_d773a72999e38f69d8c2cba76115ec27);\n        \n    \n        var popup_11a162816ff1673d2ad11c8c104ccc68 = L.popup({&quot;maxWidth&quot;: &quot;100%&quot;});\n\n        \n            \n                var html_0f078b7d2e38482a0a7ec59bf31b87c9 = $(`&lt;div id=&quot;html_0f078b7d2e38482a0a7ec59bf31b87c9&quot; style=&quot;width: 100.0%; height: 100.0%;&quot;&gt;032 Grunewald&lt;/div&gt;`)[0];\n                popup_11a162816ff1673d2ad11c8c104ccc68.setContent(html_0f078b7d2e38482a0a7ec59bf31b87c9);\n            \n        \n\n        marker_31bf1cd980bd78984f8fc307a8b09162.bindPopup(popup_11a162816ff1673d2ad11c8c104ccc68)\n        ;\n\n        \n    \n    \n            var marker_5ff1c822967bfe1a10892fc0428baf19 = L.marker(\n                [52.489451, 13.430844],\n                {}\n            ).addTo(map_22577fe541991d31b20f04e042b14eb0);\n        \n    \n            var icon_5e71fa8b7349eb4761d84223d2a6b8a1 = L.AwesomeMarkers.icon(\n                {&quot;extraClasses&quot;: &quot;fa-rotate-0&quot;, &quot;icon&quot;: &quot;info-sign&quot;, &quot;iconColor&quot;: &quot;white&quot;, &quot;markerColor&quot;: &quot;blue&quot;, &quot;prefix&quot;: &quot;glyphicon&quot;}\n            );\n            marker_5ff1c822967bfe1a10892fc0428baf19.setIcon(icon_5e71fa8b7349eb4761d84223d2a6b8a1);\n        \n    \n        var popup_399d5268bbe9048fb648809d4097a150 = L.popup({&quot;maxWidth&quot;: &quot;100%&quot;});\n\n        \n            \n                var html_44076d2f7bb48fe1b3f569b835e8df28 = $(`&lt;div id=&quot;html_44076d2f7bb48fe1b3f569b835e8df28&quot; style=&quot;width: 100.0%; height: 100.0%;&quot;&gt;042 Neukölln&lt;/div&gt;`)[0];\n                popup_399d5268bbe9048fb648809d4097a150.setContent(html_44076d2f7bb48fe1b3f569b835e8df28);\n            \n        \n\n        marker_5ff1c822967bfe1a10892fc0428baf19.bindPopup(popup_399d5268bbe9048fb648809d4097a150)\n        ;\n\n        \n    \n    \n            var marker_db0f4acf83003359edde711eab45e7f0 = L.marker(\n                [52.6441, 13.4833],\n                {}\n            ).addTo(map_22577fe541991d31b20f04e042b14eb0);\n        \n    \n            var icon_dc78e381e4e35d11605ee3415e76ffae = L.AwesomeMarkers.icon(\n                {&quot;extraClasses&quot;: &quot;fa-rotate-0&quot;, &quot;icon&quot;: &quot;info-sign&quot;, &quot;iconColor&quot;: &quot;white&quot;, &quot;markerColor&quot;: &quot;blue&quot;, &quot;prefix&quot;: &quot;glyphicon&quot;}\n            );\n            marker_db0f4acf83003359edde711eab45e7f0.setIcon(icon_dc78e381e4e35d11605ee3415e76ffae);\n        \n    \n        var popup_356c4035cd28fc1e6affdf790a1ad01e = L.popup({&quot;maxWidth&quot;: &quot;100%&quot;});\n\n        \n            \n                var html_f1be97668fcf1bc9078fec3df3478a48 = $(`&lt;div id=&quot;html_f1be97668fcf1bc9078fec3df3478a48&quot; style=&quot;width: 100.0%; height: 100.0%;&quot;&gt;077 Buch&lt;/div&gt;`)[0];\n                popup_356c4035cd28fc1e6affdf790a1ad01e.setContent(html_f1be97668fcf1bc9078fec3df3478a48);\n            \n        \n\n        marker_db0f4acf83003359edde711eab45e7f0.bindPopup(popup_356c4035cd28fc1e6affdf790a1ad01e)\n        ;\n\n        \n    \n    \n            var marker_88c7e77eea0ec441ba8f86f0e67dca23 = L.marker(\n                [52.447697, 13.64705],\n                {}\n            ).addTo(map_22577fe541991d31b20f04e042b14eb0);\n        \n    \n            var icon_90afec5194e256a094490b48f942f4f9 = L.AwesomeMarkers.icon(\n                {&quot;extraClasses&quot;: &quot;fa-rotate-0&quot;, &quot;icon&quot;: &quot;info-sign&quot;, &quot;iconColor&quot;: &quot;white&quot;, &quot;markerColor&quot;: &quot;blue&quot;, &quot;prefix&quot;: &quot;glyphicon&quot;}\n            );\n            marker_88c7e77eea0ec441ba8f86f0e67dca23.setIcon(icon_90afec5194e256a094490b48f942f4f9);\n        \n    \n        var popup_79be0ebb2bd26f301eeaf51f71b7747b = L.popup({&quot;maxWidth&quot;: &quot;100%&quot;});\n\n        \n            \n                var html_7776363d4830b934f1ca04a226b74670 = $(`&lt;div id=&quot;html_7776363d4830b934f1ca04a226b74670&quot; style=&quot;width: 100.0%; height: 100.0%;&quot;&gt;085 Friedrichshagen&lt;/div&gt;`)[0];\n                popup_79be0ebb2bd26f301eeaf51f71b7747b.setContent(html_7776363d4830b934f1ca04a226b74670);\n            \n        \n\n        marker_88c7e77eea0ec441ba8f86f0e67dca23.bindPopup(popup_79be0ebb2bd26f301eeaf51f71b7747b)\n        ;\n\n        \n    \n    \n            var marker_2fe9bff4357ecf071aa9b4e4fdc9201d = L.marker(\n                [52.50663, 13.332976],\n                {}\n            ).addTo(map_22577fe541991d31b20f04e042b14eb0);\n        \n    \n            var icon_7aed5a0e02290532d36daefdfee3d705 = L.AwesomeMarkers.icon(\n                {&quot;extraClasses&quot;: &quot;fa-rotate-0&quot;, &quot;icon&quot;: &quot;info-sign&quot;, &quot;iconColor&quot;: &quot;white&quot;, &quot;markerColor&quot;: &quot;blue&quot;, &quot;prefix&quot;: &quot;glyphicon&quot;}\n            );\n            marker_2fe9bff4357ecf071aa9b4e4fdc9201d.setIcon(icon_7aed5a0e02290532d36daefdfee3d705);\n        \n    \n        var popup_b28f1a1d9ac7a70ce23366c3990535d6 = L.popup({&quot;maxWidth&quot;: &quot;100%&quot;});\n\n        \n            \n                var html_c3997170805a0ca537c2e58b784b4a27 = $(`&lt;div id=&quot;html_c3997170805a0ca537c2e58b784b4a27&quot; style=&quot;width: 100.0%; height: 100.0%;&quot;&gt;115 Hardenbergplatz&lt;/div&gt;`)[0];\n                popup_b28f1a1d9ac7a70ce23366c3990535d6.setContent(html_c3997170805a0ca537c2e58b784b4a27);\n            \n        \n\n        marker_2fe9bff4357ecf071aa9b4e4fdc9201d.bindPopup(popup_b28f1a1d9ac7a70ce23366c3990535d6)\n        ;\n\n        \n    \n    \n            var marker_a6543e4995cdad68e97b5f71f4ad45cc = L.marker(\n                [52.46362, 13.31832],\n                {}\n            ).addTo(map_22577fe541991d31b20f04e042b14eb0);\n        \n    \n            var icon_9059298e7eb87ee46bf3bfc9e4448325 = L.AwesomeMarkers.icon(\n                {&quot;extraClasses&quot;: &quot;fa-rotate-0&quot;, &quot;icon&quot;: &quot;info-sign&quot;, &quot;iconColor&quot;: &quot;white&quot;, &quot;markerColor&quot;: &quot;blue&quot;, &quot;prefix&quot;: &quot;glyphicon&quot;}\n            );\n            marker_a6543e4995cdad68e97b5f71f4ad45cc.setIcon(icon_9059298e7eb87ee46bf3bfc9e4448325);\n        \n    \n        var popup_0965c9cb15845e60397f687da3fda66f = L.popup({&quot;maxWidth&quot;: &quot;100%&quot;});\n\n        \n            \n                var html_57d19ae5dd7dd33544699d54d5d50634 = $(`&lt;div id=&quot;html_57d19ae5dd7dd33544699d54d5d50634&quot; style=&quot;width: 100.0%; height: 100.0%;&quot;&gt;117 Schildhornstraße&lt;/div&gt;`)[0];\n                popup_0965c9cb15845e60397f687da3fda66f.setContent(html_57d19ae5dd7dd33544699d54d5d50634);\n            \n        \n\n        marker_a6543e4995cdad68e97b5f71f4ad45cc.bindPopup(popup_0965c9cb15845e60397f687da3fda66f)\n        ;\n\n        \n    \n    \n            var marker_2ac553fb86137267181a4aef721a73f0 = L.marker(\n                [52.438115, 13.38772],\n                {}\n            ).addTo(map_22577fe541991d31b20f04e042b14eb0);\n        \n    \n            var icon_578ef67818781c189c00c7574808d0cd = L.AwesomeMarkers.icon(\n                {&quot;extraClasses&quot;: &quot;fa-rotate-0&quot;, &quot;icon&quot;: &quot;info-sign&quot;, &quot;iconColor&quot;: &quot;white&quot;, &quot;markerColor&quot;: &quot;blue&quot;, &quot;prefix&quot;: &quot;glyphicon&quot;}\n            );\n            marker_2ac553fb86137267181a4aef721a73f0.setIcon(icon_578ef67818781c189c00c7574808d0cd);\n        \n    \n        var popup_76131f4631e885bf3b21b55da46870d3 = L.popup({&quot;maxWidth&quot;: &quot;100%&quot;});\n\n        \n            \n                var html_d2a881320bec6607e4a46825e6d85ff8 = $(`&lt;div id=&quot;html_d2a881320bec6607e4a46825e6d85ff8&quot; style=&quot;width: 100.0%; height: 100.0%;&quot;&gt;124 Mariendorfer Damm&lt;/div&gt;`)[0];\n                popup_76131f4631e885bf3b21b55da46870d3.setContent(html_d2a881320bec6607e4a46825e6d85ff8);\n            \n        \n\n        marker_2ac553fb86137267181a4aef721a73f0.bindPopup(popup_76131f4631e885bf3b21b55da46870d3)\n        ;\n\n        \n    \n    \n            var marker_ae67e5748b0c8577cd18fe49be60d914 = L.marker(\n                [52.65327, 13.29608],\n                {}\n            ).addTo(map_22577fe541991d31b20f04e042b14eb0);\n        \n    \n            var icon_f65ea708745c02e86e7347ac7e2e0084 = L.AwesomeMarkers.icon(\n                {&quot;extraClasses&quot;: &quot;fa-rotate-0&quot;, &quot;icon&quot;: &quot;info-sign&quot;, &quot;iconColor&quot;: &quot;white&quot;, &quot;markerColor&quot;: &quot;blue&quot;, &quot;prefix&quot;: &quot;glyphicon&quot;}\n            );\n            marker_ae67e5748b0c8577cd18fe49be60d914.setIcon(icon_f65ea708745c02e86e7347ac7e2e0084);\n        \n    \n        var popup_701ce3303f737c12fad56fbb5182afba = L.popup({&quot;maxWidth&quot;: &quot;100%&quot;});\n\n        \n            \n                var html_8cf793b3163c4b8acfc857c644d7d3f3 = $(`&lt;div id=&quot;html_8cf793b3163c4b8acfc857c644d7d3f3&quot; style=&quot;width: 100.0%; height: 100.0%;&quot;&gt;145 Frohnau&lt;/div&gt;`)[0];\n                popup_701ce3303f737c12fad56fbb5182afba.setContent(html_8cf793b3163c4b8acfc857c644d7d3f3);\n            \n        \n\n        marker_ae67e5748b0c8577cd18fe49be60d914.bindPopup(popup_701ce3303f737c12fad56fbb5182afba)\n        ;\n\n        \n    \n    \n            var marker_2b24e44902b3629b31a3d5ead74816f0 = L.marker(\n                [52.51361, 13.41883],\n                {}\n            ).addTo(map_22577fe541991d31b20f04e042b14eb0);\n        \n    \n            var icon_09f54a779f2e2725dcf235986070354f = L.AwesomeMarkers.icon(\n                {&quot;extraClasses&quot;: &quot;fa-rotate-0&quot;, &quot;icon&quot;: &quot;info-sign&quot;, &quot;iconColor&quot;: &quot;white&quot;, &quot;markerColor&quot;: &quot;blue&quot;, &quot;prefix&quot;: &quot;glyphicon&quot;}\n            );\n            marker_2b24e44902b3629b31a3d5ead74816f0.setIcon(icon_09f54a779f2e2725dcf235986070354f);\n        \n    \n        var popup_c60d5747d47331aa57565f931f03196f = L.popup({&quot;maxWidth&quot;: &quot;100%&quot;});\n\n        \n            \n                var html_35b35ac875551e10128d006c32c21357 = $(`&lt;div id=&quot;html_35b35ac875551e10128d006c32c21357&quot; style=&quot;width: 100.0%; height: 100.0%;&quot;&gt;171 Mitte&lt;/div&gt;`)[0];\n                popup_c60d5747d47331aa57565f931f03196f.setContent(html_35b35ac875551e10128d006c32c21357);\n            \n        \n\n        marker_2b24e44902b3629b31a3d5ead74816f0.bindPopup(popup_c60d5747d47331aa57565f931f03196f)\n        ;\n\n        \n    \n    \n            var marker_fad1ddfb9c7bf0a7800b7151c62e0cf3 = L.marker(\n                [52.51407, 13.46993],\n                {}\n            ).addTo(map_22577fe541991d31b20f04e042b14eb0);\n        \n    \n            var icon_17456c273d908f988c3aee63e1ef8a45 = L.AwesomeMarkers.icon(\n                {&quot;extraClasses&quot;: &quot;fa-rotate-0&quot;, &quot;icon&quot;: &quot;info-sign&quot;, &quot;iconColor&quot;: &quot;white&quot;, &quot;markerColor&quot;: &quot;blue&quot;, &quot;prefix&quot;: &quot;glyphicon&quot;}\n            );\n            marker_fad1ddfb9c7bf0a7800b7151c62e0cf3.setIcon(icon_17456c273d908f988c3aee63e1ef8a45);\n        \n    \n        var popup_7a1e519d66e16e20b223237f257a79a7 = L.popup({&quot;maxWidth&quot;: &quot;100%&quot;});\n\n        \n            \n                var html_1edf89af3b387f2d9f173d3d76875c74 = $(`&lt;div id=&quot;html_1edf89af3b387f2d9f173d3d76875c74&quot; style=&quot;width: 100.0%; height: 100.0%;&quot;&gt;174 Frankfurter Allee&lt;/div&gt;`)[0];\n                popup_7a1e519d66e16e20b223237f257a79a7.setContent(html_1edf89af3b387f2d9f173d3d76875c74);\n            \n        \n\n        marker_fad1ddfb9c7bf0a7800b7151c62e0cf3.bindPopup(popup_7a1e519d66e16e20b223237f257a79a7)\n        ;\n\n        \n    \n    \n            var marker_c7984f349fcc5123031c159c51ff3516 = L.marker(\n                [52.4853, 13.5295],\n                {}\n            ).addTo(map_22577fe541991d31b20f04e042b14eb0);\n        \n    \n            var icon_37bb1357611b5f1e7565e5bfaa5e8cdd = L.AwesomeMarkers.icon(\n                {&quot;extraClasses&quot;: &quot;fa-rotate-0&quot;, &quot;icon&quot;: &quot;info-sign&quot;, &quot;iconColor&quot;: &quot;white&quot;, &quot;markerColor&quot;: &quot;blue&quot;, &quot;prefix&quot;: &quot;glyphicon&quot;}\n            );\n            marker_c7984f349fcc5123031c159c51ff3516.setIcon(icon_37bb1357611b5f1e7565e5bfaa5e8cdd);\n        \n    \n        var popup_80a2b3d5e6b59c695d105508510e36f1 = L.popup({&quot;maxWidth&quot;: &quot;100%&quot;});\n\n        \n            \n                var html_17d3a4240dca160067788b9244ecadb7 = $(`&lt;div id=&quot;html_17d3a4240dca160067788b9244ecadb7&quot; style=&quot;width: 100.0%; height: 100.0%;&quot;&gt;282 Karlshorst&lt;/div&gt;`)[0];\n                popup_80a2b3d5e6b59c695d105508510e36f1.setContent(html_17d3a4240dca160067788b9244ecadb7);\n            \n        \n\n        marker_c7984f349fcc5123031c159c51ff3516.bindPopup(popup_80a2b3d5e6b59c695d105508510e36f1)\n        ;\n\n        \n    \n    \n            var marker_1ffbdac6daa2aed3f076c3c4651f5a52 = L.marker(\n                [52.509813, 13.382377],\n                {}\n            ).addTo(map_22577fe541991d31b20f04e042b14eb0);\n        \n    \n            var icon_515518dfac6fb91fcc18e18a6360f0df = L.AwesomeMarkers.icon(\n                {&quot;extraClasses&quot;: &quot;fa-rotate-0&quot;, &quot;icon&quot;: &quot;info-sign&quot;, &quot;iconColor&quot;: &quot;white&quot;, &quot;markerColor&quot;: &quot;blue&quot;, &quot;prefix&quot;: &quot;glyphicon&quot;}\n            );\n            marker_1ffbdac6daa2aed3f076c3c4651f5a52.setIcon(icon_515518dfac6fb91fcc18e18a6360f0df);\n        \n    \n        var popup_c112dbb80c7be97111d62ffb35f13175 = L.popup({&quot;maxWidth&quot;: &quot;100%&quot;});\n\n        \n            \n                var html_9eea66561b9eabb240d25b2d6f61e14b = $(`&lt;div id=&quot;html_9eea66561b9eabb240d25b2d6f61e14b&quot; style=&quot;width: 100.0%; height: 100.0%;&quot;&gt;190 Leipziger Straße&lt;/div&gt;`)[0];\n                popup_c112dbb80c7be97111d62ffb35f13175.setContent(html_9eea66561b9eabb240d25b2d6f61e14b);\n            \n        \n\n        marker_1ffbdac6daa2aed3f076c3c4651f5a52.bindPopup(popup_c112dbb80c7be97111d62ffb35f13175)\n        ;\n\n        \n    \n    \n            var marker_9f9951942db86be2986f7ca2e2cc435a = L.marker(\n                [52.483812, 13.429672],\n                {}\n            ).addTo(map_22577fe541991d31b20f04e042b14eb0);\n        \n    \n            var icon_b30bae80603dc238ac4537ef7ca2c8b5 = L.AwesomeMarkers.icon(\n                {&quot;extraClasses&quot;: &quot;fa-rotate-0&quot;, &quot;icon&quot;: &quot;info-sign&quot;, &quot;iconColor&quot;: &quot;white&quot;, &quot;markerColor&quot;: &quot;blue&quot;, &quot;prefix&quot;: &quot;glyphicon&quot;}\n            );\n            marker_9f9951942db86be2986f7ca2e2cc435a.setIcon(icon_b30bae80603dc238ac4537ef7ca2c8b5);\n        \n    \n        var popup_35d7077c2e1e83d5d76e7c678f85eb53 = L.popup({&quot;maxWidth&quot;: &quot;100%&quot;});\n\n        \n            \n                var html_ef92805a4b523acc2340909916ee209d = $(`&lt;div id=&quot;html_ef92805a4b523acc2340909916ee209d&quot; style=&quot;width: 100.0%; height: 100.0%;&quot;&gt;221 Karl-Marx-Straße&lt;/div&gt;`)[0];\n                popup_35d7077c2e1e83d5d76e7c678f85eb53.setContent(html_ef92805a4b523acc2340909916ee209d);\n            \n        \n\n        marker_9f9951942db86be2986f7ca2e2cc435a.bindPopup(popup_35d7077c2e1e83d5d76e7c678f85eb53)\n        ;\n\n        \n    \n    \n            var marker_61134886f4d3f0b319454c4712658743 = L.marker(\n                [52.46747, 13.44121],\n                {}\n            ).addTo(map_22577fe541991d31b20f04e042b14eb0);\n        \n    \n            var icon_57cf464aab8701e403d82b679fe734eb = L.AwesomeMarkers.icon(\n                {&quot;extraClasses&quot;: &quot;fa-rotate-0&quot;, &quot;icon&quot;: &quot;info-sign&quot;, &quot;iconColor&quot;: &quot;white&quot;, &quot;markerColor&quot;: &quot;blue&quot;, &quot;prefix&quot;: &quot;glyphicon&quot;}\n            );\n            marker_61134886f4d3f0b319454c4712658743.setIcon(icon_57cf464aab8701e403d82b679fe734eb);\n        \n    \n        var popup_55fad6835ac9dcc8e75f47c2be8f2d39 = L.popup({&quot;maxWidth&quot;: &quot;100%&quot;});\n\n        \n            \n                var html_fd3151ac078fc9f6671775ba71258a7b = $(`&lt;div id=&quot;html_fd3151ac078fc9f6671775ba71258a7b&quot; style=&quot;width: 100.0%; height: 100.0%;&quot;&gt;144 Silbersteinstraße&lt;/div&gt;`)[0];\n                popup_55fad6835ac9dcc8e75f47c2be8f2d39.setContent(html_fd3151ac078fc9f6671775ba71258a7b);\n            \n        \n\n        marker_61134886f4d3f0b319454c4712658743.bindPopup(popup_55fad6835ac9dcc8e75f47c2be8f2d39)\n        ;\n\n        \n    \n&lt;/script&gt;\n&lt;/html&gt;\" style=\"position:absolute;width:100%;height:100%;left:0;top:0;border:none !important;\" allowfullscreen webkitallowfullscreen mozallowfullscreen></iframe></div></div>"
     },
     "execution_count": 66,
     "metadata": {},
     "output_type": "execute_result"
    }
   ],
   "source": [
    "# plot stations on map\n",
    "import folium\n",
    "\n",
    "# Create a map centered around Berlin\n",
    "m = folium.Map(location=[52.52, 13.4050], zoom_start=11)\n",
    "\n",
    "# Add markers for each station\n",
    "for _, row in stations_df.iterrows():\n",
    "    folium.Marker(\n",
    "        location=[row['lat'], row['lng']],\n",
    "        popup=row['name'],\n",
    "        icon=folium.Icon(color='blue', icon='info-sign')\n",
    "    ).add_to(m)\n",
    "    \n",
    "m"
   ],
   "metadata": {
    "collapsed": false,
    "ExecuteTime": {
     "end_time": "2024-04-19T18:18:38.545935Z",
     "start_time": "2024-04-19T18:18:38.524038Z"
    }
   },
   "id": "1413f302c2c29fe4",
   "execution_count": 66
  }
 ],
 "metadata": {
  "kernelspec": {
   "display_name": "Python 3",
   "language": "python",
   "name": "python3"
  },
  "language_info": {
   "codemirror_mode": {
    "name": "ipython",
    "version": 2
   },
   "file_extension": ".py",
   "mimetype": "text/x-python",
   "name": "python",
   "nbconvert_exporter": "python",
   "pygments_lexer": "ipython2",
   "version": "2.7.6"
  }
 },
 "nbformat": 4,
 "nbformat_minor": 5
}
